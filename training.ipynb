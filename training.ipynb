{
 "cells": [
  {
   "cell_type": "code",
   "execution_count": 1,
   "metadata": {},
   "outputs": [
    {
     "name": "stderr",
     "output_type": "stream",
     "text": [
      "2022-12-05 11:15:23.677686: I tensorflow/core/platform/cpu_feature_guard.cc:193] This TensorFlow binary is optimized with oneAPI Deep Neural Network Library (oneDNN) to use the following CPU instructions in performance-critical operations:  AVX2 AVX512F AVX512_VNNI FMA\n",
      "To enable them in other operations, rebuild TensorFlow with the appropriate compiler flags.\n",
      "2022-12-05 11:15:23.959911: I tensorflow/core/util/port.cc:104] oneDNN custom operations are on. You may see slightly different numerical results due to floating-point round-off errors from different computation orders. To turn them off, set the environment variable `TF_ENABLE_ONEDNN_OPTS=0`.\n",
      "2022-12-05 11:15:25.233095: W tensorflow/compiler/xla/stream_executor/platform/default/dso_loader.cc:64] Could not load dynamic library 'libnvinfer.so.7'; dlerror: libnvinfer.so.7: cannot open shared object file: No such file or directory; LD_LIBRARY_PATH: /opt/ros/humble/opt/rviz_ogre_vendor/lib:/opt/ros/humble/lib/x86_64-linux-gnu:/opt/ros/humble/lib\n",
      "2022-12-05 11:15:25.233284: W tensorflow/compiler/xla/stream_executor/platform/default/dso_loader.cc:64] Could not load dynamic library 'libnvinfer_plugin.so.7'; dlerror: libnvinfer_plugin.so.7: cannot open shared object file: No such file or directory; LD_LIBRARY_PATH: /opt/ros/humble/opt/rviz_ogre_vendor/lib:/opt/ros/humble/lib/x86_64-linux-gnu:/opt/ros/humble/lib\n",
      "2022-12-05 11:15:25.233298: W tensorflow/compiler/tf2tensorrt/utils/py_utils.cc:38] TF-TRT Warning: Cannot dlopen some TensorRT libraries. If you would like to use Nvidia GPU with TensorRT, please make sure the missing libraries mentioned above are installed properly.\n",
      "/home/nicolas/.local/lib/python3.10/site-packages/tensorflow_addons/utils/ensure_tf_install.py:53: UserWarning: Tensorflow Addons supports using Python ops for all Tensorflow versions above or equal to 2.8.0 and strictly below 2.11.0 (nightly versions are not supported). \n",
      " The versions of TensorFlow you are currently using is 2.11.0 and is not supported. \n",
      "Some things might work, some things might not.\n",
      "If you were to encounter a bug, do not file an issue.\n",
      "If you want to make sure you're using a tested and supported configuration, either change the TensorFlow version or the TensorFlow Addons's version. \n",
      "You can find the compatibility matrix in TensorFlow Addon's readme:\n",
      "https://github.com/tensorflow/addons\n",
      "  warnings.warn(\n"
     ]
    }
   ],
   "source": [
    "import torch\n",
    "import torch.nn as nn\n",
    "import torchvision.transforms as T\n",
    "import torch.nn.functional as F\n",
    "import torchvision.datasets as datasets\n",
    "import numpy as np\n",
    "import matplotlib.pyplot as plt\n",
    "import os\n",
    "# os.environ['TF_CPP_MIN_LOG_LEVEL'] = '2'\n",
    "import tensorflow as tf\n",
    "from torchsummary import summary\n",
    "import onnx\n",
    "import onnxruntime\n",
    "# import tensorflow_addons as tfa\n",
    "from onnx_tf.backend import prepare\n",
    "import sys\n",
    "from tqdm.notebook import tqdm\n",
    "\n",
    "#  enable benchmarking\n",
    "torch.backends.cudnn.benchmark = True\n",
    "\n",
    "# print(mydevice)"
   ]
  },
  {
   "cell_type": "code",
   "execution_count": 2,
   "metadata": {},
   "outputs": [
    {
     "name": "stdout",
     "output_type": "stream",
     "text": [
      "----------------------------------------------------------------\n",
      "        Layer (type)               Output Shape         Param #\n",
      "================================================================\n",
      "            Conv2d-1            [-1, 1, 22, 22]              50\n",
      "              ReLU-2            [-1, 1, 22, 22]               0\n",
      "            Conv2d-3            [-1, 1, 16, 16]              50\n",
      "              ReLU-4            [-1, 1, 16, 16]               0\n",
      "            Conv2d-5            [-1, 1, 12, 12]              26\n",
      "              ReLU-6            [-1, 1, 12, 12]               0\n",
      "            Conv2d-7            [-1, 1, 10, 10]              10\n",
      "              ReLU-8            [-1, 1, 10, 10]               0\n",
      "           Flatten-9                  [-1, 100]               0\n",
      "           Linear-10                   [-1, 10]           1,010\n",
      "================================================================\n",
      "Total params: 1,146\n",
      "Trainable params: 1,146\n",
      "Non-trainable params: 0\n",
      "----------------------------------------------------------------\n",
      "Input size (MB): 0.00\n",
      "Forward/backward pass size (MB): 0.02\n",
      "Params size (MB): 0.00\n",
      "Estimated Total Size (MB): 0.02\n",
      "----------------------------------------------------------------\n"
     ]
    }
   ],
   "source": [
    "class cnn(nn.Module):\n",
    "    def __init__(self) -> None:\n",
    "        super().__init__()\n",
    "        self.rel = nn.ReLU()\n",
    "        self.conv0 = nn.Conv2d(1,1,7) # 22*22\n",
    "        self.conv1 = nn.Conv2d(1,1,7) # 16*16\n",
    "        self.conv2 = nn.Conv2d(1,1,5) # 11*11\n",
    "        self.conv12 = nn.Conv2d(1,1,3) # 9*9         # 12*12\n",
    "        self.fc1 = nn.Linear(10*10, 10)\n",
    "        self.flat = nn.Flatten()\n",
    "\n",
    "        #  initialize weights\n",
    "        for m in self.modules():\n",
    "            if isinstance(m, nn.Conv2d):\n",
    "                nn.init.kaiming_normal_(m.weight, mode='fan_out', nonlinearity='relu')\n",
    "                if m.bias is not None:\n",
    "                    nn.init.constant_(m.bias, 0)\n",
    "            elif isinstance(m, nn.Linear):\n",
    "                nn.init.normal_(m.weight, 0, 0.01)\n",
    "                nn.init.constant_(m.bias, 0)\n",
    "    \n",
    "    def forward(self, x):\n",
    "        x = self.conv0(x)\n",
    "        x = self.rel(x)\n",
    "        x = self.conv1(x)\n",
    "        x = self.rel(x)\n",
    "        x = self.conv2(x)\n",
    "        x = self.rel(x)\n",
    "        x = self.conv12(x)\n",
    "        x = self.rel(x)\n",
    "        x = self.flat(x)\n",
    "        x = self.fc1(x)\n",
    "        return x\n",
    "\n",
    "model = cnn()\n",
    "\n",
    "summary(model, (1,28,28))\n",
    "\n",
    "optim = torch.optim.AdamW(model.parameters(), lr=0.001)\n",
    "critereon = nn.CrossEntropyLoss()\n",
    "scheduler = torch.optim.lr_scheduler.ReduceLROnPlateau(optim, patience=3, verbose=True)\n"
   ]
  },
  {
   "cell_type": "code",
   "execution_count": 3,
   "metadata": {},
   "outputs": [],
   "source": [
    "batch_size = 64\n",
    "#  load data\n",
    "train_data = datasets.MNIST(root='data', train=True, transform=T.ToTensor(), download=True)\n",
    "test_data = datasets.MNIST(root='data', train=False, transform=T.ToTensor(), download=True)\n",
    "\n",
    "train_loader = torch.utils.data.DataLoader(train_data, batch_size=batch_size, shuffle=True)\n",
    "test_loader = torch.utils.data.DataLoader(test_data, batch_size=batch_size, shuffle=True)\n"
   ]
  },
  {
   "cell_type": "code",
   "execution_count": 4,
   "metadata": {},
   "outputs": [
    {
     "name": "stderr",
     "output_type": "stream",
     "text": [
      "  0%|          | 0/20 [00:00<?, ?it/s]"
     ]
    },
    {
     "name": "stdout",
     "output_type": "stream",
     "text": [
      "epoch 0 train acc 0.732: 100%|██████████| 938/938 [00:12<00:00, 77.04it/s]\n",
      "epoch 0 test acc 0.842: 100%|██████████| 157/157 [00:01<00:00, 145.20it/s]"
     ]
    },
    {
     "name": "stderr",
     "output_type": "stream",
     "text": [
      "  5%|▌         | 1/20 [00:13<04:11, 13.26s/it]"
     ]
    },
    {
     "name": "stdout",
     "output_type": "stream",
     "text": [
      "\n",
      "epoch 1 train acc 0.840: 100%|██████████| 938/938 [00:12<00:00, 73.70it/s]\n",
      "epoch 1 test acc 0.858: 100%|██████████| 157/157 [00:01<00:00, 141.80it/s]"
     ]
    },
    {
     "name": "stderr",
     "output_type": "stream",
     "text": [
      " 10%|█         | 2/20 [00:27<04:04, 13.60s/it]"
     ]
    },
    {
     "name": "stdout",
     "output_type": "stream",
     "text": [
      "\n"
     ]
    }
   ],
   "source": [
    "\n",
    "best_loss = np.inf\n",
    "\n",
    "train_losses = []\n",
    "tain_accs = []\n",
    "test_losses = []\n",
    "test_accs = []\n",
    "\n",
    "weights = []\n",
    "biases = []\n",
    "grads = []\n",
    "\n",
    "\n",
    "# train\n",
    "for epoch in tqdm(range(20)):\n",
    "    model.train()\n",
    "    total_loss = 0\n",
    "    total_acc = 0\n",
    "    with tqdm(total=len(train_loader), file=sys.stdout) as pbar:\n",
    "        for x, y in train_loader:\n",
    "            pbar.update(1)\n",
    "            x = x\n",
    "            y = y\n",
    "            optim.zero_grad(set_to_none = True)\n",
    "            y_ = model(x)\n",
    "            loss = critereon(y_, y)\n",
    "            total_acc += (y_.argmax(dim=1) == y).sum().item()\n",
    "            loss.backward()\n",
    "            optim.step()\n",
    "            total_loss += loss.item()\n",
    "        train_losses.append(total_loss / len(train_loader))\n",
    "        tain_accs.append(total_acc / len(train_data))\n",
    "        pbar.set_description(f\"epoch {epoch} train acc {total_acc / len(train_data):.3f}\")\n",
    "        pbar.refresh()\n",
    "    \n",
    "    # test\n",
    "    model.eval()\n",
    "    with torch.no_grad():\n",
    "        total_loss = 0\n",
    "        total_acc = 0\n",
    "        with tqdm(total=len(test_loader), file=sys.stdout) as pbar:\n",
    "            for x, y in test_loader:\n",
    "                pbar.update(1)\n",
    "                x = x\n",
    "                y = y\n",
    "                y_ = model(x)\n",
    "                loss = critereon(y_, y)\n",
    "                total_acc += (y_.argmax(dim=1) == y).sum().item()\n",
    "                total_loss += loss.item()\n",
    "            test_losses.append(total_loss / len(test_loader))\n",
    "            test_accs.append(total_acc / len(test_data))\n",
    "            pbar.set_description(f\"epoch {epoch} test acc {total_acc / len(test_data):.3f}\")\n",
    "            pbar.refresh()\n",
    "            if total_loss < best_loss:\n",
    "                best_loss = total_loss\n",
    "                torch.save(model.state_dict(), \"cnn.pt\")\n",
    "        scheduler.step(total_loss / len(test_loader))\n",
    "\n"
   ]
  },
  {
   "cell_type": "code",
   "execution_count": null,
   "metadata": {},
   "outputs": [
    {
     "data": {
      "image/png": "[encoded data removed]",
      "text/plain": [
       "<Figure size 720x360 with 1 Axes>"
      ]
     },
     "metadata": {
      "needs_background": "light"
     },
     "output_type": "display_data"
    },
    {
     "data": {
      "image/png": "[encoded data removed]",
      "text/plain": [
       "<Figure size 720x360 with 1 Axes>"
      ]
     },
     "metadata": {
      "needs_background": "light"
     },
     "output_type": "display_data"
    }
   ],
   "source": [
    "# graph loss\n",
    "plt.figure(figsize = (10, 5))\n",
    "plt.plot(train_losses, label=\"train\")\n",
    "plt.plot(test_losses, label=\"test\")\n",
    "plt.legend()\n",
    "plt.show()\n",
    "\n",
    "# graph acc\n",
    "plt.figure(figsize = (10, 5))\n",
    "plt.plot(tain_accs, label=\"train\")\n",
    "plt.plot(test_accs, label=\"test\")\n",
    "plt.legend()\n",
    "plt.show()\n"
   ]
  },
  {
   "cell_type": "code",
   "execution_count": null,
   "metadata": {},
   "outputs": [
    {
     "name": "stdout",
     "output_type": "stream",
     "text": [
      " 96%|█████████▌| 151/157 [00:01<00:00, 137.80it/s]test acc 0.895\n",
      "test loss 0.3717740790764238\n",
      "class 0 acc 0.966\n",
      "class 1 acc 0.976\n",
      "class 2 acc 0.855\n",
      "class 3 acc 0.893\n",
      "class 4 acc 0.901\n",
      "class 5 acc 0.830\n",
      "class 6 acc 0.913\n",
      "class 7 acc 0.888\n",
      "class 8 acc 0.849\n",
      "class 9 acc 0.867\n",
      "100%|██████████| 157/157 [00:01<00:00, 132.14it/s]\n"
     ]
    },
    {
     "data": {
      "image/png": "[encoded data removed]",
      "text/plain": [
       "<Figure size 720x360 with 1 Axes>"
      ]
     },
     "metadata": {
      "needs_background": "light"
     },
     "output_type": "display_data"
    }
   ],
   "source": [
    "#  loda the best model\n",
    "model.load_state_dict(torch.load(\"cnn.pt\"))\n",
    "\n",
    "#  evaluate\n",
    "model.eval()\n",
    "with torch.no_grad():\n",
    "    total_loss = 0\n",
    "    total_acc = 0\n",
    "    class_acc = np.zeros(10)\n",
    "    class_num = np.zeros(10)\n",
    "    with tqdm(total=len(test_loader), file=sys.stdout) as pbar:\n",
    "        for x, y in test_loader:\n",
    "            pbar.update(1)\n",
    "            x = x\n",
    "            y = y\n",
    "            y_ = model(x)\n",
    "            loss = critereon(y_, y)\n",
    "            total_acc += (y_.argmax(dim=1) == y).sum().item()\n",
    "            total_loss += loss.item()\n",
    "            for i in range(len(y)):\n",
    "                class_acc[y[i]] += (y_.argmax(dim=1)[i] == y[i]).item()\n",
    "                class_num[y[i]] += 1\n",
    "        print(f\"test acc {total_acc / len(test_data):.3f}\")\n",
    "        print(f\"test loss {total_loss / len(test_loader)}\")\n",
    "        for i in range(10):\n",
    "            print(f\"class {i} acc {class_acc[i] / class_num[i]:.3f}\")\n",
    "#  graph the acc\n",
    "plt.figure(figsize = (10, 5))\n",
    "plt.bar(range(10), class_acc / class_num)\n",
    "plt.show()\n"
   ]
  },
  {
   "cell_type": "code",
   "execution_count": null,
   "metadata": {},
   "outputs": [
    {
     "data": {
      "image/png": "[encoded data removed]",
      "text/plain": [
       "<Figure size 720x720 with 1 Axes>"
      ]
     },
     "metadata": {
      "needs_background": "light"
     },
     "output_type": "display_data"
    }
   ],
   "source": [
    "#  compute confusion matrix\n",
    "confusion_matrix = np.zeros((10, 10))\n",
    "with torch.no_grad():\n",
    "    for x, y in test_loader:\n",
    "        x = x\n",
    "        y = y\n",
    "        y_ = model(x)\n",
    "        for i in range(len(y)):\n",
    "            confusion_matrix[y[i]][y_.argmax(dim=1)[i]] += 1\n",
    "#  graph the confusion matrix\n",
    "plt.figure(figsize = (10, 10))\n",
    "plt.imshow(confusion_matrix)\n",
    "plt.show()\n"
   ]
  },
  {
   "cell_type": "code",
   "execution_count": null,
   "metadata": {},
   "outputs": [
    {
     "name": "stdout",
     "output_type": "stream",
     "text": [
      "Exported graph: graph(%input : Float(1, 1, 28, 28, strides=[784, 784, 28, 1], requires_grad=0, device=cpu),\n",
      "      %conv0.weight : Float(1, 1, 7, 7, strides=[49, 49, 7, 1], requires_grad=1, device=cpu),\n",
      "      %conv0.bias : Float(1, strides=[1], requires_grad=1, device=cpu),\n",
      "      %conv1.weight : Float(1, 1, 7, 7, strides=[49, 49, 7, 1], requires_grad=1, device=cpu),\n",
      "      %conv1.bias : Float(1, strides=[1], requires_grad=1, device=cpu),\n",
      "      %conv2.weight : Float(1, 1, 5, 5, strides=[25, 25, 5, 1], requires_grad=1, device=cpu),\n",
      "      %conv2.bias : Float(1, strides=[1], requires_grad=1, device=cpu),\n",
      "      %conv12.weight : Float(1, 1, 3, 3, strides=[9, 9, 3, 1], requires_grad=1, device=cpu),\n",
      "      %conv12.bias : Float(1, strides=[1], requires_grad=1, device=cpu),\n",
      "      %fc1.weight : Float(10, 100, strides=[100, 1], requires_grad=1, device=cpu),\n",
      "      %fc1.bias : Float(10, strides=[1], requires_grad=1, device=cpu)):\n",
      "  %/conv0/Conv_output_0 : Float(1, 1, 22, 22, strides=[484, 484, 22, 1], requires_grad=0, device=cpu) = onnx::Conv[dilations=[1, 1], group=1, kernel_shape=[7, 7], pads=[0, 0, 0, 0], strides=[1, 1], onnx_name=\"/conv0/Conv\"](%input, %conv0.weight, %conv0.bias), scope: __main__.cnn::/torch.nn.modules.conv.Conv2d::conv0 # /home/nicolas/.local/lib/python3.10/site-packages/torch/nn/modules/conv.py:458:0\n",
      "  %/rel/Relu_output_0 : Float(1, 1, 22, 22, strides=[484, 484, 22, 1], requires_grad=1, device=cpu) = onnx::Relu[onnx_name=\"/rel/Relu\"](%/conv0/Conv_output_0), scope: __main__.cnn::/torch.nn.modules.activation.ReLU::rel # /home/nicolas/.local/lib/python3.10/site-packages/torch/nn/functional.py:1453:0\n",
      "  %/conv1/Conv_output_0 : Float(1, 1, 16, 16, strides=[256, 256, 16, 1], requires_grad=0, device=cpu) = onnx::Conv[dilations=[1, 1], group=1, kernel_shape=[7, 7], pads=[0, 0, 0, 0], strides=[1, 1], onnx_name=\"/conv1/Conv\"](%/rel/Relu_output_0, %conv1.weight, %conv1.bias), scope: __main__.cnn::/torch.nn.modules.conv.Conv2d::conv1 # /home/nicolas/.local/lib/python3.10/site-packages/torch/nn/modules/conv.py:458:0\n",
      "  %/rel_1/Relu_output_0 : Float(1, 1, 16, 16, strides=[256, 256, 16, 1], requires_grad=1, device=cpu) = onnx::Relu[onnx_name=\"/rel_1/Relu\"](%/conv1/Conv_output_0), scope: __main__.cnn::/torch.nn.modules.activation.ReLU::rel # /home/nicolas/.local/lib/python3.10/site-packages/torch/nn/functional.py:1453:0\n",
      "  %/conv2/Conv_output_0 : Float(1, 1, 12, 12, strides=[144, 144, 12, 1], requires_grad=0, device=cpu) = onnx::Conv[dilations=[1, 1], group=1, kernel_shape=[5, 5], pads=[0, 0, 0, 0], strides=[1, 1], onnx_name=\"/conv2/Conv\"](%/rel_1/Relu_output_0, %conv2.weight, %conv2.bias), scope: __main__.cnn::/torch.nn.modules.conv.Conv2d::conv2 # /home/nicolas/.local/lib/python3.10/site-packages/torch/nn/modules/conv.py:458:0\n",
      "  %/rel_2/Relu_output_0 : Float(1, 1, 12, 12, strides=[144, 144, 12, 1], requires_grad=1, device=cpu) = onnx::Relu[onnx_name=\"/rel_2/Relu\"](%/conv2/Conv_output_0), scope: __main__.cnn::/torch.nn.modules.activation.ReLU::rel # /home/nicolas/.local/lib/python3.10/site-packages/torch/nn/functional.py:1453:0\n",
      "  %/conv12/Conv_output_0 : Float(1, 1, 10, 10, strides=[100, 100, 10, 1], requires_grad=0, device=cpu) = onnx::Conv[dilations=[1, 1], group=1, kernel_shape=[3, 3], pads=[0, 0, 0, 0], strides=[1, 1], onnx_name=\"/conv12/Conv\"](%/rel_2/Relu_output_0, %conv12.weight, %conv12.bias), scope: __main__.cnn::/torch.nn.modules.conv.Conv2d::conv12 # /home/nicolas/.local/lib/python3.10/site-packages/torch/nn/modules/conv.py:458:0\n",
      "  %/rel_3/Relu_output_0 : Float(1, 1, 10, 10, strides=[100, 100, 10, 1], requires_grad=1, device=cpu) = onnx::Relu[onnx_name=\"/rel_3/Relu\"](%/conv12/Conv_output_0), scope: __main__.cnn::/torch.nn.modules.activation.ReLU::rel # /home/nicolas/.local/lib/python3.10/site-packages/torch/nn/functional.py:1453:0\n",
      "  %/flat/Flatten_output_0 : Float(1, 100, strides=[100, 1], requires_grad=1, device=cpu) = onnx::Flatten[axis=1, onnx_name=\"/flat/Flatten\"](%/rel_3/Relu_output_0), scope: __main__.cnn::/torch.nn.modules.flatten.Flatten::flat # /home/nicolas/.local/lib/python3.10/site-packages/torch/nn/modules/flatten.py:46:0\n",
      "  %output : Float(1, 10, strides=[10, 1], requires_grad=1, device=cpu) = onnx::Gemm[alpha=1., beta=1., transB=1, onnx_name=\"/fc1/Gemm\"](%/flat/Flatten_output_0, %fc1.weight, %fc1.bias), scope: __main__.cnn::/torch.nn.modules.linear.Linear::fc1 # /home/nicolas/.local/lib/python3.10/site-packages/torch/nn/modules/linear.py:114:0\n",
      "  return (%output)\n",
      "\n",
      "None\n",
      "\n",
      "graph torch_jit (\n",
      "  %input[FLOAT, 1x1x28x28]\n",
      ") initializers (\n",
      "  %conv0.weight[FLOAT, 1x1x7x7]\n",
      "  %conv0.bias[FLOAT, 1]\n",
      "  %conv1.weight[FLOAT, 1x1x7x7]\n",
      "  %conv1.bias[FLOAT, 1]\n",
      "  %conv2.weight[FLOAT, 1x1x5x5]\n",
      "  %conv2.bias[FLOAT, 1]\n",
      "  %conv12.weight[FLOAT, 1x1x3x3]\n",
      "  %conv12.bias[FLOAT, 1]\n",
      "  %fc1.weight[FLOAT, 10x100]\n",
      "  %fc1.bias[FLOAT, 10]\n",
      ") {\n",
      "  %/conv0/Conv_output_0 = Conv[dilations = [1, 1], group = 1, kernel_shape = [7, 7], pads = [0, 0, 0, 0], strides = [1, 1]](%input, %conv0.weight, %conv0.bias)\n",
      "  %/rel/Relu_output_0 = Relu(%/conv0/Conv_output_0)\n",
      "  %/conv1/Conv_output_0 = Conv[dilations = [1, 1], group = 1, kernel_shape = [7, 7], pads = [0, 0, 0, 0], strides = [1, 1]](%/rel/Relu_output_0, %conv1.weight, %conv1.bias)\n",
      "  %/rel_1/Relu_output_0 = Relu(%/conv1/Conv_output_0)\n",
      "  %/conv2/Conv_output_0 = Conv[dilations = [1, 1], group = 1, kernel_shape = [5, 5], pads = [0, 0, 0, 0], strides = [1, 1]](%/rel_1/Relu_output_0, %conv2.weight, %conv2.bias)\n",
      "  %/rel_2/Relu_output_0 = Relu(%/conv2/Conv_output_0)\n",
      "  %/conv12/Conv_output_0 = Conv[dilations = [1, 1], group = 1, kernel_shape = [3, 3], pads = [0, 0, 0, 0], strides = [1, 1]](%/rel_2/Relu_output_0, %conv12.weight, %conv12.bias)\n",
      "  %/rel_3/Relu_output_0 = Relu(%/conv12/Conv_output_0)\n",
      "  %/flat/Flatten_output_0 = Flatten[axis = 1](%/rel_3/Relu_output_0)\n",
      "  %output = Gemm[alpha = 1, beta = 1, transB = 1](%/flat/Flatten_output_0, %fc1.weight, %fc1.bias)\n",
      "  return %output\n",
      "}\n"
     ]
    }
   ],
   "source": [
    "#  export to onnx\n",
    "dummy_input = torch.randn(1, 1, 28, 28, device='cpu')\n",
    "torch.onnx.export(model, dummy_input, \"cnn.onnx\", verbose=True, input_names = ['input'], output_names = ['output'], opset_version=11)\n",
    "\n",
    "#  check the onnx model\n",
    "onnx_model = onnx.load(\"cnn.onnx\")\n",
    "print(onnx.checker.check_model(onnx_model))\n",
    "print()\n",
    "print(onnx.helper.printable_graph(onnx_model.graph))\n"
   ]
  },
  {
   "cell_type": "code",
   "execution_count": null,
   "metadata": {},
   "outputs": [
    {
     "name": "stderr",
     "output_type": "stream",
     "text": [
      "WARNING:absl:Found untraced functions such as gen_tensor_dict while saving (showing 1 of 1). These functions will not be directly callable after loading.\n"
     ]
    },
    {
     "name": "stdout",
     "output_type": "stream",
     "text": [
      "INFO:tensorflow:Assets written to: cnn.pb/assets\n"
     ]
    },
    {
     "name": "stderr",
     "output_type": "stream",
     "text": [
      "INFO:tensorflow:Assets written to: cnn.pb/assets\n",
      "2022-12-05 10:19:07.250677: W tensorflow/compiler/mlir/lite/python/tf_tfl_flatbuffer_helpers.cc:362] Ignored output_format.\n",
      "2022-12-05 10:19:07.250732: W tensorflow/compiler/mlir/lite/python/tf_tfl_flatbuffer_helpers.cc:365] Ignored drop_control_dependency.\n",
      "2022-12-05 10:19:07.250910: I tensorflow/cc/saved_model/reader.cc:45] Reading SavedModel from: cnn.pb\n",
      "2022-12-05 10:19:07.251624: I tensorflow/cc/saved_model/reader.cc:89] Reading meta graph with tags { serve }\n",
      "2022-12-05 10:19:07.251642: I tensorflow/cc/saved_model/reader.cc:130] Reading SavedModel debug info (if present) from: cnn.pb\n",
      "2022-12-05 10:19:07.253373: I tensorflow/cc/saved_model/loader.cc:229] Restoring SavedModel bundle.\n",
      "2022-12-05 10:19:07.272312: I tensorflow/cc/saved_model/loader.cc:213] Running initialization op on SavedModel bundle at path: cnn.pb\n",
      "2022-12-05 10:19:07.279698: I tensorflow/cc/saved_model/loader.cc:305] SavedModel load for tags { serve }; Status: success: OK. Took 28787 microseconds.\n",
      "2022-12-05 10:19:07.316246: I tensorflow/compiler/mlir/lite/flatbuffer_export.cc:2111] Estimated count of arithmetic ops: 0.085 M  ops, equivalently 0.042 M  MACs\n",
      "fully_quantize: 0, inference_type: 6, input_inference_type: FLOAT32, output_inference_type: FLOAT32\n",
      "2022-12-05 10:19:07.342747: I tensorflow/compiler/mlir/lite/flatbuffer_export.cc:2111] Estimated count of arithmetic ops: 0.085 M  ops, equivalently 0.042 M  MACs\n"
     ]
    },
    {
     "data": {
      "text/plain": [
       "5000"
      ]
     },
     "execution_count": 14,
     "metadata": {},
     "output_type": "execute_result"
    }
   ],
   "source": [
    "#  from onnx to tf\n",
    "tf_rep = prepare(onnx.load(\"cnn.onnx\"))\n",
    "tf_rep.export_graph('cnn.pb')\n",
    "\n",
    "x = torch.randn(1, 1, 28, 28, requires_grad = False)\n",
    "\n",
    "def representative_dataset_gen():\n",
    "    for _ in range(100):\n",
    "        yield [x]\n",
    "\n",
    "converter = tf.lite.TFLiteConverter.from_saved_model(\"cnn.pb\")\n",
    "converter.target_spec.supported_ops = [\n",
    "  tf.lite.OpsSet.TFLITE_BUILTINS_INT8, # enable TensorFlow Lite ops.\n",
    "]\n",
    "converter.optimizations = [tf.lite.Optimize.DEFAULT]\n",
    "converter.representative_dataset = representative_dataset_gen\n",
    "tflite_model = converter.convert()\n",
    "\n",
    "#  save the model\n",
    "open(\"cnn.tflite\", \"wb\").write(tflite_model)\n"
   ]
  },
  {
   "cell_type": "code",
   "execution_count": null,
   "metadata": {},
   "outputs": [
    {
     "name": "stdout",
     "output_type": "stream",
     "text": [
      "  1%|          | 1/157 [00:00<00:02, 68.66it/s]\n"
     ]
    },
    {
     "ename": "IndexError",
     "evalue": "index 1 is out of bounds for axis 0 with size 1",
     "output_type": "error",
     "traceback": [
      "\u001b[0;31m---------------------------------------------------------------------------\u001b[0m",
      "\u001b[0;31mIndexError\u001b[0m                                Traceback (most recent call last)",
      "\u001b[1;32m/home/nicolas/dvic/IACG/MNISTJS/training.ipynb Cell 9\u001b[0m in \u001b[0;36m<cell line: 13>\u001b[0;34m()\u001b[0m\n\u001b[1;32m     <a href='vscode-notebook-cell:/home/nicolas/dvic/IACG/MNISTJS/training.ipynb#X11sZmlsZQ%3D%3D?line=18'>19</a>\u001b[0m     total_acc \u001b[39m+\u001b[39m\u001b[39m=\u001b[39m np\u001b[39m.\u001b[39msum((y_\u001b[39m.\u001b[39margmax(axis\u001b[39m=\u001b[39m\u001b[39m1\u001b[39m) \u001b[39m==\u001b[39m y))\n\u001b[1;32m     <a href='vscode-notebook-cell:/home/nicolas/dvic/IACG/MNISTJS/training.ipynb#X11sZmlsZQ%3D%3D?line=19'>20</a>\u001b[0m     \u001b[39mfor\u001b[39;00m i \u001b[39min\u001b[39;00m \u001b[39mrange\u001b[39m(\u001b[39mlen\u001b[39m(y)):\n\u001b[0;32m---> <a href='vscode-notebook-cell:/home/nicolas/dvic/IACG/MNISTJS/training.ipynb#X11sZmlsZQ%3D%3D?line=20'>21</a>\u001b[0m         class_acc[y[i]] \u001b[39m+\u001b[39m\u001b[39m=\u001b[39m (y_\u001b[39m.\u001b[39;49margmax(axis\u001b[39m=\u001b[39;49m\u001b[39m1\u001b[39;49m)[i] \u001b[39m==\u001b[39m y[i])\n\u001b[1;32m     <a href='vscode-notebook-cell:/home/nicolas/dvic/IACG/MNISTJS/training.ipynb#X11sZmlsZQ%3D%3D?line=21'>22</a>\u001b[0m         class_num[y[i]] \u001b[39m+\u001b[39m\u001b[39m=\u001b[39m \u001b[39m1\u001b[39m\n\u001b[1;32m     <a href='vscode-notebook-cell:/home/nicolas/dvic/IACG/MNISTJS/training.ipynb#X11sZmlsZQ%3D%3D?line=22'>23</a>\u001b[0m \u001b[39mprint\u001b[39m(\u001b[39mf\u001b[39m\u001b[39m\"\u001b[39m\u001b[39mtest acc \u001b[39m\u001b[39m{\u001b[39;00mtotal_acc \u001b[39m/\u001b[39m \u001b[39mlen\u001b[39m(test_data)\u001b[39m:\u001b[39;00m\u001b[39m.3f\u001b[39m\u001b[39m}\u001b[39;00m\u001b[39m\"\u001b[39m)\n",
      "\u001b[0;31mIndexError\u001b[0m: index 1 is out of bounds for axis 0 with size 1"
     ]
    }
   ],
   "source": [
    "# #  test the tflite model\n",
    "# interpreter = tf.lite.Interpreter(model_path=\"cnn.tflite\")\n",
    "# interpreter.allocate_tensors()\n",
    "# input_details = interpreter.get_input_details()\n",
    "# output_details = interpreter.get_output_details()\n",
    "\n",
    "# def to_tf(x):\n",
    "#     return x[0].numpy().reshape(input_details[0]['shape'])\n",
    "\n",
    "# total_acc = 0\n",
    "# class_acc= np.zeros(10)\n",
    "# class_num = np.zeros(10)\n",
    "# with tqdm(total=len(test_loader), file=sys.stdout) as pbar:\n",
    "#     for x, y in test_loader:\n",
    "#         pbar.update(1)\n",
    "#         interpreter.set_tensor(input_details[0]['index'], to_tf(x))\n",
    "#         interpreter.invoke()\n",
    "#         y_ = interpreter.get_tensor(output_details[0]['index'])\n",
    "#         total_acc += np.sum((y_.argmax(axis=1) == y))\n",
    "#         for i in range(len(y)):\n",
    "#             class_acc[y[i]] += (y_.argmax(axis=1)[i] == y[i])\n",
    "#             class_num[y[i]] += 1\n",
    "#     print(f\"test acc {total_acc / len(test_data):.3f}\")\n",
    "#     for i in range(10):\n",
    "#         print(f\"class {i} acc {class_acc[i] / class_num[i]:.3f}\")\n"
   ]
  }
 ],
 "metadata": {
  "kernelspec": {
   "display_name": "Python 3.10.6 64-bit",
   "language": "python",
   "name": "python3"
  },
  "language_info": {
   "codemirror_mode": {
    "name": "ipython",
    "version": 3
   },
   "file_extension": ".py",
   "mimetype": "text/x-python",
   "name": "python",
   "nbconvert_exporter": "python",
   "pygments_lexer": "ipython3",
   "version": "3.10.6"
  },
  "orig_nbformat": 4,
  "vscode": {
   "interpreter": {
    "hash": "916dbcbb3f70747c44a77c7bcd40155683ae19c65e1c03b4aa3499c5328201f1"
   }
  }
 },
 "nbformat": 4,
 "nbformat_minor": 2
}
