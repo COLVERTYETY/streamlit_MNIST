{
 "cells": [
  {
   "cell_type": "code",
   "execution_count": 1,
   "metadata": {},
   "outputs": [
    {
     "name": "stderr",
     "output_type": "stream",
     "text": [
      "2022-12-05 18:53:07.504246: I tensorflow/core/platform/cpu_feature_guard.cc:193] This TensorFlow binary is optimized with oneAPI Deep Neural Network Library (oneDNN) to use the following CPU instructions in performance-critical operations:  AVX2 AVX512F AVX512_VNNI FMA\n",
      "To enable them in other operations, rebuild TensorFlow with the appropriate compiler flags.\n",
      "2022-12-05 18:53:07.828972: I tensorflow/core/util/port.cc:104] oneDNN custom operations are on. You may see slightly different numerical results due to floating-point round-off errors from different computation orders. To turn them off, set the environment variable `TF_ENABLE_ONEDNN_OPTS=0`.\n",
      "2022-12-05 18:53:08.936259: W tensorflow/compiler/xla/stream_executor/platform/default/dso_loader.cc:64] Could not load dynamic library 'libnvinfer.so.7'; dlerror: libnvinfer.so.7: cannot open shared object file: No such file or directory; LD_LIBRARY_PATH: /opt/ros/humble/opt/rviz_ogre_vendor/lib:/opt/ros/humble/lib/x86_64-linux-gnu:/opt/ros/humble/lib\n",
      "2022-12-05 18:53:08.936422: W tensorflow/compiler/xla/stream_executor/platform/default/dso_loader.cc:64] Could not load dynamic library 'libnvinfer_plugin.so.7'; dlerror: libnvinfer_plugin.so.7: cannot open shared object file: No such file or directory; LD_LIBRARY_PATH: /opt/ros/humble/opt/rviz_ogre_vendor/lib:/opt/ros/humble/lib/x86_64-linux-gnu:/opt/ros/humble/lib\n",
      "2022-12-05 18:53:08.936432: W tensorflow/compiler/tf2tensorrt/utils/py_utils.cc:38] TF-TRT Warning: Cannot dlopen some TensorRT libraries. If you would like to use Nvidia GPU with TensorRT, please make sure the missing libraries mentioned above are installed properly.\n",
      "/home/nicolas/.local/lib/python3.10/site-packages/tensorflow_addons/utils/ensure_tf_install.py:53: UserWarning: Tensorflow Addons supports using Python ops for all Tensorflow versions above or equal to 2.8.0 and strictly below 2.11.0 (nightly versions are not supported). \n",
      " The versions of TensorFlow you are currently using is 2.11.0 and is not supported. \n",
      "Some things might work, some things might not.\n",
      "If you were to encounter a bug, do not file an issue.\n",
      "If you want to make sure you're using a tested and supported configuration, either change the TensorFlow version or the TensorFlow Addons's version. \n",
      "You can find the compatibility matrix in TensorFlow Addon's readme:\n",
      "https://github.com/tensorflow/addons\n",
      "  warnings.warn(\n"
     ]
    }
   ],
   "source": [
    "import torch\n",
    "import torch.nn as nn\n",
    "import torchvision.transforms as T\n",
    "import torch.nn.functional as F\n",
    "import torchvision.datasets as datasets\n",
    "import numpy as np\n",
    "import matplotlib.pyplot as plt\n",
    "import os\n",
    "# os.environ['TF_CPP_MIN_LOG_LEVEL'] = '2'\n",
    "import tensorflow as tf\n",
    "from torchsummary import summary\n",
    "import onnx\n",
    "import onnxruntime\n",
    "# import tensorflow_addons as tfa\n",
    "from onnx_tf.backend import prepare\n",
    "import sys\n",
    "from tqdm.notebook import tqdm\n",
    "\n",
    "#  enable benchmarking\n",
    "# torch.backends.cudnn.benchmark = True\n",
    "\n",
    "# print(mydevice)"
   ]
  },
  {
   "cell_type": "code",
   "execution_count": 2,
   "metadata": {},
   "outputs": [
    {
     "name": "stdout",
     "output_type": "stream",
     "text": [
      "----------------------------------------------------------------\n",
      "        Layer (type)               Output Shape         Param #\n",
      "================================================================\n",
      "            Conv2d-1            [-1, 1, 22, 22]              50\n",
      "              ReLU-2            [-1, 1, 22, 22]               0\n",
      "            Conv2d-3            [-1, 1, 16, 16]              50\n",
      "              ReLU-4            [-1, 1, 16, 16]               0\n",
      "            Conv2d-5            [-1, 1, 12, 12]              26\n",
      "              ReLU-6            [-1, 1, 12, 12]               0\n",
      "            Conv2d-7            [-1, 1, 10, 10]              10\n",
      "              ReLU-8            [-1, 1, 10, 10]               0\n",
      "           Flatten-9                  [-1, 100]               0\n",
      "           Linear-10                   [-1, 10]           1,010\n",
      "================================================================\n",
      "Total params: 1,146\n",
      "Trainable params: 1,146\n",
      "Non-trainable params: 0\n",
      "----------------------------------------------------------------\n",
      "Input size (MB): 0.00\n",
      "Forward/backward pass size (MB): 0.02\n",
      "Params size (MB): 0.00\n",
      "Estimated Total Size (MB): 0.02\n",
      "----------------------------------------------------------------\n"
     ]
    }
   ],
   "source": [
    "class cnn(nn.Module):\n",
    "    def __init__(self) -> None:\n",
    "        super().__init__()\n",
    "        self.rel = nn.ReLU()\n",
    "        self.conv0 = nn.Conv2d(1,1,7) # 22*22\n",
    "        self.conv1 = nn.Conv2d(1,1,7) # 16*16\n",
    "        self.conv2 = nn.Conv2d(1,1,5) # 11*11\n",
    "        self.conv12 = nn.Conv2d(1,1,3) # 9*9         # 12*12\n",
    "        self.fc1 = nn.Linear(10*10, 10)\n",
    "        self.flat = nn.Flatten()\n",
    "\n",
    "        #  initialize weights\n",
    "        for m in self.modules():\n",
    "            if isinstance(m, nn.Conv2d):\n",
    "                nn.init.kaiming_normal_(m.weight, mode='fan_out', nonlinearity='relu')\n",
    "                if m.bias is not None:\n",
    "                    nn.init.constant_(m.bias, 0)\n",
    "            elif isinstance(m, nn.Linear):\n",
    "                nn.init.normal_(m.weight, 0, 0.01)\n",
    "                nn.init.constant_(m.bias, 0)\n",
    "    \n",
    "    def forward(self, x):\n",
    "        x = self.conv0(x)\n",
    "        x = self.rel(x)\n",
    "        x = self.conv1(x)\n",
    "        x = self.rel(x)\n",
    "        x = self.conv2(x)\n",
    "        x = self.rel(x)\n",
    "        x = self.conv12(x)\n",
    "        x = self.rel(x)\n",
    "        x = self.flat(x)\n",
    "        x = self.fc1(x)\n",
    "        return x\n",
    "\n",
    "model = cnn()\n",
    "\n",
    "summary(model, (1,28,28))\n",
    "\n",
    "optim = torch.optim.AdamW(model.parameters(), lr=0.001)\n",
    "critereon = nn.CrossEntropyLoss()\n",
    "scheduler = torch.optim.lr_scheduler.ReduceLROnPlateau(optim, patience=3, verbose=True)\n"
   ]
  },
  {
   "cell_type": "code",
   "execution_count": 3,
   "metadata": {},
   "outputs": [],
   "source": [
    "batch_size = 32\n",
    "#  load data\n",
    "train_data = datasets.MNIST(root='data', train=True, transform=T.ToTensor(), download=True)\n",
    "test_data = datasets.MNIST(root='data', train=False, transform=T.ToTensor(), download=True)\n",
    "\n",
    "train_loader = torch.utils.data.DataLoader(train_data, batch_size=batch_size, shuffle=True)\n",
    "test_loader = torch.utils.data.DataLoader(test_data, batch_size=batch_size, shuffle=True)\n"
   ]
  },
  {
   "cell_type": "code",
   "execution_count": 4,
   "metadata": {},
   "outputs": [
    {
     "data": {
      "application/vnd.jupyter.widget-view+json": {
       "model_id": "57faad1684a34cf8ae90bd817636261d",
       "version_major": 2,
       "version_minor": 0
      },
      "text/plain": [
       "  0%|          | 0/50 [00:00<?, ?it/s]"
      ]
     },
     "metadata": {},
     "output_type": "display_data"
    },
    {
     "data": {
      "application/vnd.jupyter.widget-view+json": {
       "model_id": "118f7338d2664ac7b190e6cac6339c50",
       "version_major": 2,
       "version_minor": 0
      },
      "text/plain": [
       "  0%|          | 0/1875 [00:00<?, ?it/s]"
      ]
     },
     "metadata": {},
     "output_type": "display_data"
    },
    {
     "data": {
      "application/vnd.jupyter.widget-view+json": {
       "model_id": "b1d3a984f53d4227adf48109be185998",
       "version_major": 2,
       "version_minor": 0
      },
      "text/plain": [
       "  0%|          | 0/313 [00:00<?, ?it/s]"
      ]
     },
     "metadata": {},
     "output_type": "display_data"
    },
    {
     "data": {
      "application/vnd.jupyter.widget-view+json": {
       "model_id": "fef6127b5cb749a1a161f18d8dbe5cae",
       "version_major": 2,
       "version_minor": 0
      },
      "text/plain": [
       "  0%|          | 0/1875 [00:00<?, ?it/s]"
      ]
     },
     "metadata": {},
     "output_type": "display_data"
    },
    {
     "data": {
      "application/vnd.jupyter.widget-view+json": {
       "model_id": "20825670df0b47a7b773b4f2728ab024",
       "version_major": 2,
       "version_minor": 0
      },
      "text/plain": [
       "  0%|          | 0/313 [00:00<?, ?it/s]"
      ]
     },
     "metadata": {},
     "output_type": "display_data"
    },
    {
     "data": {
      "application/vnd.jupyter.widget-view+json": {
       "model_id": "2957c53b161c4d87b4a8a2204c4b3659",
       "version_major": 2,
       "version_minor": 0
      },
      "text/plain": [
       "  0%|          | 0/1875 [00:00<?, ?it/s]"
      ]
     },
     "metadata": {},
     "output_type": "display_data"
    },
    {
     "data": {
      "application/vnd.jupyter.widget-view+json": {
       "model_id": "6af0e87750744451832376b38a18e8d0",
       "version_major": 2,
       "version_minor": 0
      },
      "text/plain": [
       "  0%|          | 0/313 [00:00<?, ?it/s]"
      ]
     },
     "metadata": {},
     "output_type": "display_data"
    },
    {
     "data": {
      "application/vnd.jupyter.widget-view+json": {
       "model_id": "1555fb13ce5e472b818cae1625fcb22f",
       "version_major": 2,
       "version_minor": 0
      },
      "text/plain": [
       "  0%|          | 0/1875 [00:00<?, ?it/s]"
      ]
     },
     "metadata": {},
     "output_type": "display_data"
    },
    {
     "data": {
      "application/vnd.jupyter.widget-view+json": {
       "model_id": "b884fbec0bfa4b9bae31db4d96624ced",
       "version_major": 2,
       "version_minor": 0
      },
      "text/plain": [
       "  0%|          | 0/313 [00:00<?, ?it/s]"
      ]
     },
     "metadata": {},
     "output_type": "display_data"
    },
    {
     "data": {
      "application/vnd.jupyter.widget-view+json": {
       "model_id": "bda62607f17b42bf927bda723739f51d",
       "version_major": 2,
       "version_minor": 0
      },
      "text/plain": [
       "  0%|          | 0/1875 [00:00<?, ?it/s]"
      ]
     },
     "metadata": {},
     "output_type": "display_data"
    },
    {
     "data": {
      "application/vnd.jupyter.widget-view+json": {
       "model_id": "d37a257eb0af4e68ae67fcafcfe5f27e",
       "version_major": 2,
       "version_minor": 0
      },
      "text/plain": [
       "  0%|          | 0/313 [00:00<?, ?it/s]"
      ]
     },
     "metadata": {},
     "output_type": "display_data"
    },
    {
     "data": {
      "application/vnd.jupyter.widget-view+json": {
       "model_id": "05475bd72e61431a823dadda9b7e3c14",
       "version_major": 2,
       "version_minor": 0
      },
      "text/plain": [
       "  0%|          | 0/1875 [00:00<?, ?it/s]"
      ]
     },
     "metadata": {},
     "output_type": "display_data"
    },
    {
     "data": {
      "application/vnd.jupyter.widget-view+json": {
       "model_id": "d2c99ce8b9f142ec947948026f77b459",
       "version_major": 2,
       "version_minor": 0
      },
      "text/plain": [
       "  0%|          | 0/313 [00:00<?, ?it/s]"
      ]
     },
     "metadata": {},
     "output_type": "display_data"
    },
    {
     "data": {
      "application/vnd.jupyter.widget-view+json": {
       "model_id": "444d1f7472e2428ab4ebf996b59300fb",
       "version_major": 2,
       "version_minor": 0
      },
      "text/plain": [
       "  0%|          | 0/1875 [00:00<?, ?it/s]"
      ]
     },
     "metadata": {},
     "output_type": "display_data"
    },
    {
     "data": {
      "application/vnd.jupyter.widget-view+json": {
       "model_id": "ffaabeabf19843529295afbc5ac50250",
       "version_major": 2,
       "version_minor": 0
      },
      "text/plain": [
       "  0%|          | 0/313 [00:00<?, ?it/s]"
      ]
     },
     "metadata": {},
     "output_type": "display_data"
    },
    {
     "data": {
      "application/vnd.jupyter.widget-view+json": {
       "model_id": "150d420d149344b7be0b43fd83253013",
       "version_major": 2,
       "version_minor": 0
      },
      "text/plain": [
       "  0%|          | 0/1875 [00:00<?, ?it/s]"
      ]
     },
     "metadata": {},
     "output_type": "display_data"
    },
    {
     "data": {
      "application/vnd.jupyter.widget-view+json": {
       "model_id": "a1a333f7b9e9408fa51a8c671e43aec4",
       "version_major": 2,
       "version_minor": 0
      },
      "text/plain": [
       "  0%|          | 0/313 [00:00<?, ?it/s]"
      ]
     },
     "metadata": {},
     "output_type": "display_data"
    },
    {
     "data": {
      "application/vnd.jupyter.widget-view+json": {
       "model_id": "6cef458b51c84d259989bb3124bee51d",
       "version_major": 2,
       "version_minor": 0
      },
      "text/plain": [
       "  0%|          | 0/1875 [00:00<?, ?it/s]"
      ]
     },
     "metadata": {},
     "output_type": "display_data"
    },
    {
     "data": {
      "application/vnd.jupyter.widget-view+json": {
       "model_id": "1c389ecdd61b4d29b9d634b3cd852783",
       "version_major": 2,
       "version_minor": 0
      },
      "text/plain": [
       "  0%|          | 0/313 [00:00<?, ?it/s]"
      ]
     },
     "metadata": {},
     "output_type": "display_data"
    },
    {
     "data": {
      "application/vnd.jupyter.widget-view+json": {
       "model_id": "2a64df6f923d43a5a9eea8ccc09c1a70",
       "version_major": 2,
       "version_minor": 0
      },
      "text/plain": [
       "  0%|          | 0/1875 [00:00<?, ?it/s]"
      ]
     },
     "metadata": {},
     "output_type": "display_data"
    },
    {
     "data": {
      "application/vnd.jupyter.widget-view+json": {
       "model_id": "4ea00e05c35e4830a8820813cf86a64a",
       "version_major": 2,
       "version_minor": 0
      },
      "text/plain": [
       "  0%|          | 0/313 [00:00<?, ?it/s]"
      ]
     },
     "metadata": {},
     "output_type": "display_data"
    },
    {
     "data": {
      "application/vnd.jupyter.widget-view+json": {
       "model_id": "5542b96ca5ba4d8cabd8f457536ea9a2",
       "version_major": 2,
       "version_minor": 0
      },
      "text/plain": [
       "  0%|          | 0/1875 [00:00<?, ?it/s]"
      ]
     },
     "metadata": {},
     "output_type": "display_data"
    },
    {
     "data": {
      "application/vnd.jupyter.widget-view+json": {
       "model_id": "4393022e598a46b39d1f132482a1193f",
       "version_major": 2,
       "version_minor": 0
      },
      "text/plain": [
       "  0%|          | 0/313 [00:00<?, ?it/s]"
      ]
     },
     "metadata": {},
     "output_type": "display_data"
    },
    {
     "data": {
      "application/vnd.jupyter.widget-view+json": {
       "model_id": "a346a804c8e8441f9915640d57a19ba8",
       "version_major": 2,
       "version_minor": 0
      },
      "text/plain": [
       "  0%|          | 0/1875 [00:00<?, ?it/s]"
      ]
     },
     "metadata": {},
     "output_type": "display_data"
    },
    {
     "data": {
      "application/vnd.jupyter.widget-view+json": {
       "model_id": "03606e74cf404656b6a1b524b094a019",
       "version_major": 2,
       "version_minor": 0
      },
      "text/plain": [
       "  0%|          | 0/313 [00:00<?, ?it/s]"
      ]
     },
     "metadata": {},
     "output_type": "display_data"
    },
    {
     "data": {
      "application/vnd.jupyter.widget-view+json": {
       "model_id": "4b1881557c014e989350d317be56256e",
       "version_major": 2,
       "version_minor": 0
      },
      "text/plain": [
       "  0%|          | 0/1875 [00:00<?, ?it/s]"
      ]
     },
     "metadata": {},
     "output_type": "display_data"
    },
    {
     "data": {
      "application/vnd.jupyter.widget-view+json": {
       "model_id": "cbf1a80b7e554710abac3f850a866d70",
       "version_major": 2,
       "version_minor": 0
      },
      "text/plain": [
       "  0%|          | 0/313 [00:00<?, ?it/s]"
      ]
     },
     "metadata": {},
     "output_type": "display_data"
    },
    {
     "data": {
      "application/vnd.jupyter.widget-view+json": {
       "model_id": "d6eefff6e9c3431c89a870222f7eea81",
       "version_major": 2,
       "version_minor": 0
      },
      "text/plain": [
       "  0%|          | 0/1875 [00:00<?, ?it/s]"
      ]
     },
     "metadata": {},
     "output_type": "display_data"
    },
    {
     "data": {
      "application/vnd.jupyter.widget-view+json": {
       "model_id": "bbb33f9240e64f26934e2a7fb726b720",
       "version_major": 2,
       "version_minor": 0
      },
      "text/plain": [
       "  0%|          | 0/313 [00:00<?, ?it/s]"
      ]
     },
     "metadata": {},
     "output_type": "display_data"
    },
    {
     "data": {
      "application/vnd.jupyter.widget-view+json": {
       "model_id": "6a38a4a75d9f44eab48b84df6df5dbf2",
       "version_major": 2,
       "version_minor": 0
      },
      "text/plain": [
       "  0%|          | 0/1875 [00:00<?, ?it/s]"
      ]
     },
     "metadata": {},
     "output_type": "display_data"
    },
    {
     "data": {
      "application/vnd.jupyter.widget-view+json": {
       "model_id": "6e92b513e1cc4ac99ca6cd10f62f7788",
       "version_major": 2,
       "version_minor": 0
      },
      "text/plain": [
       "  0%|          | 0/313 [00:00<?, ?it/s]"
      ]
     },
     "metadata": {},
     "output_type": "display_data"
    },
    {
     "data": {
      "application/vnd.jupyter.widget-view+json": {
       "model_id": "938a2b806a3a429f8001ac11780cdf22",
       "version_major": 2,
       "version_minor": 0
      },
      "text/plain": [
       "  0%|          | 0/1875 [00:00<?, ?it/s]"
      ]
     },
     "metadata": {},
     "output_type": "display_data"
    },
    {
     "data": {
      "application/vnd.jupyter.widget-view+json": {
       "model_id": "b686e0366585436e8f32694c1e0e74fc",
       "version_major": 2,
       "version_minor": 0
      },
      "text/plain": [
       "  0%|          | 0/313 [00:00<?, ?it/s]"
      ]
     },
     "metadata": {},
     "output_type": "display_data"
    },
    {
     "data": {
      "application/vnd.jupyter.widget-view+json": {
       "model_id": "e3f7313ff3d4478bbe414c7974691569",
       "version_major": 2,
       "version_minor": 0
      },
      "text/plain": [
       "  0%|          | 0/1875 [00:00<?, ?it/s]"
      ]
     },
     "metadata": {},
     "output_type": "display_data"
    },
    {
     "data": {
      "application/vnd.jupyter.widget-view+json": {
       "model_id": "c555a635544a4939be548c02f8fab33a",
       "version_major": 2,
       "version_minor": 0
      },
      "text/plain": [
       "  0%|          | 0/313 [00:00<?, ?it/s]"
      ]
     },
     "metadata": {},
     "output_type": "display_data"
    },
    {
     "data": {
      "application/vnd.jupyter.widget-view+json": {
       "model_id": "503766fb7e0944f39f51c6a5841d9094",
       "version_major": 2,
       "version_minor": 0
      },
      "text/plain": [
       "  0%|          | 0/1875 [00:00<?, ?it/s]"
      ]
     },
     "metadata": {},
     "output_type": "display_data"
    },
    {
     "data": {
      "application/vnd.jupyter.widget-view+json": {
       "model_id": "79724a5160774a51a4194c33bfa779cd",
       "version_major": 2,
       "version_minor": 0
      },
      "text/plain": [
       "  0%|          | 0/313 [00:00<?, ?it/s]"
      ]
     },
     "metadata": {},
     "output_type": "display_data"
    },
    {
     "data": {
      "application/vnd.jupyter.widget-view+json": {
       "model_id": "f037e1e8fef2435384690a5855c3e0e4",
       "version_major": 2,
       "version_minor": 0
      },
      "text/plain": [
       "  0%|          | 0/1875 [00:00<?, ?it/s]"
      ]
     },
     "metadata": {},
     "output_type": "display_data"
    },
    {
     "data": {
      "application/vnd.jupyter.widget-view+json": {
       "model_id": "d867743135884e3cb1c4c7b2faf5a2e3",
       "version_major": 2,
       "version_minor": 0
      },
      "text/plain": [
       "  0%|          | 0/313 [00:00<?, ?it/s]"
      ]
     },
     "metadata": {},
     "output_type": "display_data"
    },
    {
     "data": {
      "application/vnd.jupyter.widget-view+json": {
       "model_id": "923fcefdd3864067bc2549f56ce8472e",
       "version_major": 2,
       "version_minor": 0
      },
      "text/plain": [
       "  0%|          | 0/1875 [00:00<?, ?it/s]"
      ]
     },
     "metadata": {},
     "output_type": "display_data"
    },
    {
     "data": {
      "application/vnd.jupyter.widget-view+json": {
       "model_id": "8799a1f8330c46a69c1c0b206ff15c9e",
       "version_major": 2,
       "version_minor": 0
      },
      "text/plain": [
       "  0%|          | 0/313 [00:00<?, ?it/s]"
      ]
     },
     "metadata": {},
     "output_type": "display_data"
    },
    {
     "data": {
      "application/vnd.jupyter.widget-view+json": {
       "model_id": "e5e67712fbb3435f857751a710d595f3",
       "version_major": 2,
       "version_minor": 0
      },
      "text/plain": [
       "  0%|          | 0/1875 [00:00<?, ?it/s]"
      ]
     },
     "metadata": {},
     "output_type": "display_data"
    },
    {
     "data": {
      "application/vnd.jupyter.widget-view+json": {
       "model_id": "c59f1ccc50e541a98927f600445d0221",
       "version_major": 2,
       "version_minor": 0
      },
      "text/plain": [
       "  0%|          | 0/313 [00:00<?, ?it/s]"
      ]
     },
     "metadata": {},
     "output_type": "display_data"
    },
    {
     "data": {
      "application/vnd.jupyter.widget-view+json": {
       "model_id": "49a6610b9db64190ab24c160953a1c56",
       "version_major": 2,
       "version_minor": 0
      },
      "text/plain": [
       "  0%|          | 0/1875 [00:00<?, ?it/s]"
      ]
     },
     "metadata": {},
     "output_type": "display_data"
    },
    {
     "data": {
      "application/vnd.jupyter.widget-view+json": {
       "model_id": "590a342428064dbb8ea365e0f3f1a958",
       "version_major": 2,
       "version_minor": 0
      },
      "text/plain": [
       "  0%|          | 0/313 [00:00<?, ?it/s]"
      ]
     },
     "metadata": {},
     "output_type": "display_data"
    },
    {
     "data": {
      "application/vnd.jupyter.widget-view+json": {
       "model_id": "b68461c83ccd4b19b71ab68edd3fbf2e",
       "version_major": 2,
       "version_minor": 0
      },
      "text/plain": [
       "  0%|          | 0/1875 [00:00<?, ?it/s]"
      ]
     },
     "metadata": {},
     "output_type": "display_data"
    },
    {
     "data": {
      "application/vnd.jupyter.widget-view+json": {
       "model_id": "585de1e4aa6a4855bf001e76461bddcb",
       "version_major": 2,
       "version_minor": 0
      },
      "text/plain": [
       "  0%|          | 0/313 [00:00<?, ?it/s]"
      ]
     },
     "metadata": {},
     "output_type": "display_data"
    },
    {
     "name": "stdout",
     "output_type": "stream",
     "text": [
      "Epoch 00023: reducing learning rate of group 0 to 1.0000e-04.\n"
     ]
    },
    {
     "data": {
      "application/vnd.jupyter.widget-view+json": {
       "model_id": "3e84845480e14b1f81f776a9290b93e4",
       "version_major": 2,
       "version_minor": 0
      },
      "text/plain": [
       "  0%|          | 0/1875 [00:00<?, ?it/s]"
      ]
     },
     "metadata": {},
     "output_type": "display_data"
    },
    {
     "data": {
      "application/vnd.jupyter.widget-view+json": {
       "model_id": "f0f0ad775b3f4dcaae4fc532b31baeb3",
       "version_major": 2,
       "version_minor": 0
      },
      "text/plain": [
       "  0%|          | 0/313 [00:00<?, ?it/s]"
      ]
     },
     "metadata": {},
     "output_type": "display_data"
    },
    {
     "data": {
      "application/vnd.jupyter.widget-view+json": {
       "model_id": "9ae5f18b8b9340779b6b26ebafff8ac7",
       "version_major": 2,
       "version_minor": 0
      },
      "text/plain": [
       "  0%|          | 0/1875 [00:00<?, ?it/s]"
      ]
     },
     "metadata": {},
     "output_type": "display_data"
    },
    {
     "data": {
      "application/vnd.jupyter.widget-view+json": {
       "model_id": "f278c411c09a4f3ca834807cc8401227",
       "version_major": 2,
       "version_minor": 0
      },
      "text/plain": [
       "  0%|          | 0/313 [00:00<?, ?it/s]"
      ]
     },
     "metadata": {},
     "output_type": "display_data"
    },
    {
     "data": {
      "application/vnd.jupyter.widget-view+json": {
       "model_id": "16a9d804af7646c58cbc62290f0a4a4d",
       "version_major": 2,
       "version_minor": 0
      },
      "text/plain": [
       "  0%|          | 0/1875 [00:00<?, ?it/s]"
      ]
     },
     "metadata": {},
     "output_type": "display_data"
    },
    {
     "data": {
      "application/vnd.jupyter.widget-view+json": {
       "model_id": "1438472d0b9f46c784ab40354fa67914",
       "version_major": 2,
       "version_minor": 0
      },
      "text/plain": [
       "  0%|          | 0/313 [00:00<?, ?it/s]"
      ]
     },
     "metadata": {},
     "output_type": "display_data"
    },
    {
     "data": {
      "application/vnd.jupyter.widget-view+json": {
       "model_id": "6793213781384cbf81eea6dc7a6d7305",
       "version_major": 2,
       "version_minor": 0
      },
      "text/plain": [
       "  0%|          | 0/1875 [00:00<?, ?it/s]"
      ]
     },
     "metadata": {},
     "output_type": "display_data"
    },
    {
     "data": {
      "application/vnd.jupyter.widget-view+json": {
       "model_id": "f7502eca3def4eacaf4343fd511dba00",
       "version_major": 2,
       "version_minor": 0
      },
      "text/plain": [
       "  0%|          | 0/313 [00:00<?, ?it/s]"
      ]
     },
     "metadata": {},
     "output_type": "display_data"
    },
    {
     "data": {
      "application/vnd.jupyter.widget-view+json": {
       "model_id": "ce77728a6f3544b29aa823627bfbef76",
       "version_major": 2,
       "version_minor": 0
      },
      "text/plain": [
       "  0%|          | 0/1875 [00:00<?, ?it/s]"
      ]
     },
     "metadata": {},
     "output_type": "display_data"
    },
    {
     "data": {
      "application/vnd.jupyter.widget-view+json": {
       "model_id": "8304fb28f5f84705929bca46219b55c1",
       "version_major": 2,
       "version_minor": 0
      },
      "text/plain": [
       "  0%|          | 0/313 [00:00<?, ?it/s]"
      ]
     },
     "metadata": {},
     "output_type": "display_data"
    },
    {
     "data": {
      "application/vnd.jupyter.widget-view+json": {
       "model_id": "318e7bd159d44a62ae3bb0b4b1a7578f",
       "version_major": 2,
       "version_minor": 0
      },
      "text/plain": [
       "  0%|          | 0/1875 [00:00<?, ?it/s]"
      ]
     },
     "metadata": {},
     "output_type": "display_data"
    },
    {
     "data": {
      "application/vnd.jupyter.widget-view+json": {
       "model_id": "270a53b30bd043fc822a22781f9533c4",
       "version_major": 2,
       "version_minor": 0
      },
      "text/plain": [
       "  0%|          | 0/313 [00:00<?, ?it/s]"
      ]
     },
     "metadata": {},
     "output_type": "display_data"
    },
    {
     "data": {
      "application/vnd.jupyter.widget-view+json": {
       "model_id": "e7462b09249b4e85a16d8863db524034",
       "version_major": 2,
       "version_minor": 0
      },
      "text/plain": [
       "  0%|          | 0/1875 [00:00<?, ?it/s]"
      ]
     },
     "metadata": {},
     "output_type": "display_data"
    },
    {
     "data": {
      "application/vnd.jupyter.widget-view+json": {
       "model_id": "5cd2f5f159a64f20b78c60d4f5c15e60",
       "version_major": 2,
       "version_minor": 0
      },
      "text/plain": [
       "  0%|          | 0/313 [00:00<?, ?it/s]"
      ]
     },
     "metadata": {},
     "output_type": "display_data"
    },
    {
     "data": {
      "application/vnd.jupyter.widget-view+json": {
       "model_id": "827b24f25da3408f912a73e559d5c7c2",
       "version_major": 2,
       "version_minor": 0
      },
      "text/plain": [
       "  0%|          | 0/1875 [00:00<?, ?it/s]"
      ]
     },
     "metadata": {},
     "output_type": "display_data"
    },
    {
     "data": {
      "application/vnd.jupyter.widget-view+json": {
       "model_id": "5f500a361f1d4e98860e1502a2e4cfeb",
       "version_major": 2,
       "version_minor": 0
      },
      "text/plain": [
       "  0%|          | 0/313 [00:00<?, ?it/s]"
      ]
     },
     "metadata": {},
     "output_type": "display_data"
    },
    {
     "data": {
      "application/vnd.jupyter.widget-view+json": {
       "model_id": "6298e0a0de7248ecbff7c636014039a4",
       "version_major": 2,
       "version_minor": 0
      },
      "text/plain": [
       "  0%|          | 0/1875 [00:00<?, ?it/s]"
      ]
     },
     "metadata": {},
     "output_type": "display_data"
    },
    {
     "data": {
      "application/vnd.jupyter.widget-view+json": {
       "model_id": "4db48c9618e64a968ed0ffe0346b5898",
       "version_major": 2,
       "version_minor": 0
      },
      "text/plain": [
       "  0%|          | 0/313 [00:00<?, ?it/s]"
      ]
     },
     "metadata": {},
     "output_type": "display_data"
    },
    {
     "data": {
      "application/vnd.jupyter.widget-view+json": {
       "model_id": "ba2b394ecffa494182441f409b91f32c",
       "version_major": 2,
       "version_minor": 0
      },
      "text/plain": [
       "  0%|          | 0/1875 [00:00<?, ?it/s]"
      ]
     },
     "metadata": {},
     "output_type": "display_data"
    },
    {
     "data": {
      "application/vnd.jupyter.widget-view+json": {
       "model_id": "122cc6cd0bf849088ba44d0146a7d62a",
       "version_major": 2,
       "version_minor": 0
      },
      "text/plain": [
       "  0%|          | 0/313 [00:00<?, ?it/s]"
      ]
     },
     "metadata": {},
     "output_type": "display_data"
    },
    {
     "data": {
      "application/vnd.jupyter.widget-view+json": {
       "model_id": "20e37c8b9b1e4aa8ae0dc35882f67402",
       "version_major": 2,
       "version_minor": 0
      },
      "text/plain": [
       "  0%|          | 0/1875 [00:00<?, ?it/s]"
      ]
     },
     "metadata": {},
     "output_type": "display_data"
    },
    {
     "data": {
      "application/vnd.jupyter.widget-view+json": {
       "model_id": "cb2583762c154d86817c939ee94fc0f5",
       "version_major": 2,
       "version_minor": 0
      },
      "text/plain": [
       "  0%|          | 0/313 [00:00<?, ?it/s]"
      ]
     },
     "metadata": {},
     "output_type": "display_data"
    },
    {
     "data": {
      "application/vnd.jupyter.widget-view+json": {
       "model_id": "118576813c0347bbb5d83283db1fa3fd",
       "version_major": 2,
       "version_minor": 0
      },
      "text/plain": [
       "  0%|          | 0/1875 [00:00<?, ?it/s]"
      ]
     },
     "metadata": {},
     "output_type": "display_data"
    },
    {
     "data": {
      "application/vnd.jupyter.widget-view+json": {
       "model_id": "9265ea5ee9f84820b3f54eb3c5fd33ea",
       "version_major": 2,
       "version_minor": 0
      },
      "text/plain": [
       "  0%|          | 0/313 [00:00<?, ?it/s]"
      ]
     },
     "metadata": {},
     "output_type": "display_data"
    },
    {
     "data": {
      "application/vnd.jupyter.widget-view+json": {
       "model_id": "126ec609373a4fd888b9030b58e0a502",
       "version_major": 2,
       "version_minor": 0
      },
      "text/plain": [
       "  0%|          | 0/1875 [00:00<?, ?it/s]"
      ]
     },
     "metadata": {},
     "output_type": "display_data"
    },
    {
     "data": {
      "application/vnd.jupyter.widget-view+json": {
       "model_id": "32f1587515054335a4d385f1fa102ac6",
       "version_major": 2,
       "version_minor": 0
      },
      "text/plain": [
       "  0%|          | 0/313 [00:00<?, ?it/s]"
      ]
     },
     "metadata": {},
     "output_type": "display_data"
    },
    {
     "data": {
      "application/vnd.jupyter.widget-view+json": {
       "model_id": "267c973e50e440a19236748a6d4ef9ad",
       "version_major": 2,
       "version_minor": 0
      },
      "text/plain": [
       "  0%|          | 0/1875 [00:00<?, ?it/s]"
      ]
     },
     "metadata": {},
     "output_type": "display_data"
    },
    {
     "data": {
      "application/vnd.jupyter.widget-view+json": {
       "model_id": "50e1bfbfe31b4c45903c1ceae40c6cf0",
       "version_major": 2,
       "version_minor": 0
      },
      "text/plain": [
       "  0%|          | 0/313 [00:00<?, ?it/s]"
      ]
     },
     "metadata": {},
     "output_type": "display_data"
    },
    {
     "data": {
      "application/vnd.jupyter.widget-view+json": {
       "model_id": "100bf2ef18df414da8cbd0d570ba2125",
       "version_major": 2,
       "version_minor": 0
      },
      "text/plain": [
       "  0%|          | 0/1875 [00:00<?, ?it/s]"
      ]
     },
     "metadata": {},
     "output_type": "display_data"
    },
    {
     "data": {
      "application/vnd.jupyter.widget-view+json": {
       "model_id": "7e25a4c8a2c84265b53f9b92e91eea41",
       "version_major": 2,
       "version_minor": 0
      },
      "text/plain": [
       "  0%|          | 0/313 [00:00<?, ?it/s]"
      ]
     },
     "metadata": {},
     "output_type": "display_data"
    },
    {
     "data": {
      "application/vnd.jupyter.widget-view+json": {
       "model_id": "b28ba067883c44e6b4bcfca30f304b41",
       "version_major": 2,
       "version_minor": 0
      },
      "text/plain": [
       "  0%|          | 0/1875 [00:00<?, ?it/s]"
      ]
     },
     "metadata": {},
     "output_type": "display_data"
    },
    {
     "data": {
      "application/vnd.jupyter.widget-view+json": {
       "model_id": "9c0d4e931fe64a80b45f48dcb4d5b24a",
       "version_major": 2,
       "version_minor": 0
      },
      "text/plain": [
       "  0%|          | 0/313 [00:00<?, ?it/s]"
      ]
     },
     "metadata": {},
     "output_type": "display_data"
    },
    {
     "data": {
      "application/vnd.jupyter.widget-view+json": {
       "model_id": "17f10ea62d024f0ea06cc6d390789864",
       "version_major": 2,
       "version_minor": 0
      },
      "text/plain": [
       "  0%|          | 0/1875 [00:00<?, ?it/s]"
      ]
     },
     "metadata": {},
     "output_type": "display_data"
    },
    {
     "data": {
      "application/vnd.jupyter.widget-view+json": {
       "model_id": "085687e7710e40fbb72e20d85a8fdc33",
       "version_major": 2,
       "version_minor": 0
      },
      "text/plain": [
       "  0%|          | 0/313 [00:00<?, ?it/s]"
      ]
     },
     "metadata": {},
     "output_type": "display_data"
    },
    {
     "data": {
      "application/vnd.jupyter.widget-view+json": {
       "model_id": "812d12e4e3e74d468a74604cc94080fe",
       "version_major": 2,
       "version_minor": 0
      },
      "text/plain": [
       "  0%|          | 0/1875 [00:00<?, ?it/s]"
      ]
     },
     "metadata": {},
     "output_type": "display_data"
    },
    {
     "data": {
      "application/vnd.jupyter.widget-view+json": {
       "model_id": "96560758bbd440a88f3f4be284975a2f",
       "version_major": 2,
       "version_minor": 0
      },
      "text/plain": [
       "  0%|          | 0/313 [00:00<?, ?it/s]"
      ]
     },
     "metadata": {},
     "output_type": "display_data"
    },
    {
     "data": {
      "application/vnd.jupyter.widget-view+json": {
       "model_id": "80c4a833c6484dc9b17b8f9a05482487",
       "version_major": 2,
       "version_minor": 0
      },
      "text/plain": [
       "  0%|          | 0/1875 [00:00<?, ?it/s]"
      ]
     },
     "metadata": {},
     "output_type": "display_data"
    },
    {
     "data": {
      "application/vnd.jupyter.widget-view+json": {
       "model_id": "311063ec0cd049f09a659bbbe9827025",
       "version_major": 2,
       "version_minor": 0
      },
      "text/plain": [
       "  0%|          | 0/313 [00:00<?, ?it/s]"
      ]
     },
     "metadata": {},
     "output_type": "display_data"
    },
    {
     "data": {
      "application/vnd.jupyter.widget-view+json": {
       "model_id": "498d0e86c78e413cb7d0f73f3ee995bb",
       "version_major": 2,
       "version_minor": 0
      },
      "text/plain": [
       "  0%|          | 0/1875 [00:00<?, ?it/s]"
      ]
     },
     "metadata": {},
     "output_type": "display_data"
    },
    {
     "data": {
      "application/vnd.jupyter.widget-view+json": {
       "model_id": "54af518ccb8a411db4f9c84fab374b2c",
       "version_major": 2,
       "version_minor": 0
      },
      "text/plain": [
       "  0%|          | 0/313 [00:00<?, ?it/s]"
      ]
     },
     "metadata": {},
     "output_type": "display_data"
    },
    {
     "data": {
      "application/vnd.jupyter.widget-view+json": {
       "model_id": "dffc830cf9ea4923980b259373ba81a1",
       "version_major": 2,
       "version_minor": 0
      },
      "text/plain": [
       "  0%|          | 0/1875 [00:00<?, ?it/s]"
      ]
     },
     "metadata": {},
     "output_type": "display_data"
    },
    {
     "data": {
      "application/vnd.jupyter.widget-view+json": {
       "model_id": "0e0b687c80b34963ac5b8e1eb1090850",
       "version_major": 2,
       "version_minor": 0
      },
      "text/plain": [
       "  0%|          | 0/313 [00:00<?, ?it/s]"
      ]
     },
     "metadata": {},
     "output_type": "display_data"
    },
    {
     "data": {
      "application/vnd.jupyter.widget-view+json": {
       "model_id": "aea38fd654704ab2b6d2827528c943fd",
       "version_major": 2,
       "version_minor": 0
      },
      "text/plain": [
       "  0%|          | 0/1875 [00:00<?, ?it/s]"
      ]
     },
     "metadata": {},
     "output_type": "display_data"
    },
    {
     "data": {
      "application/vnd.jupyter.widget-view+json": {
       "model_id": "13fea049d28c4a899163f27932f0a336",
       "version_major": 2,
       "version_minor": 0
      },
      "text/plain": [
       "  0%|          | 0/313 [00:00<?, ?it/s]"
      ]
     },
     "metadata": {},
     "output_type": "display_data"
    },
    {
     "data": {
      "application/vnd.jupyter.widget-view+json": {
       "model_id": "6b3a4e668361443c999c040b7c78c989",
       "version_major": 2,
       "version_minor": 0
      },
      "text/plain": [
       "  0%|          | 0/1875 [00:00<?, ?it/s]"
      ]
     },
     "metadata": {},
     "output_type": "display_data"
    },
    {
     "data": {
      "application/vnd.jupyter.widget-view+json": {
       "model_id": "183ac1b4757447068048de724c45d8c7",
       "version_major": 2,
       "version_minor": 0
      },
      "text/plain": [
       "  0%|          | 0/313 [00:00<?, ?it/s]"
      ]
     },
     "metadata": {},
     "output_type": "display_data"
    },
    {
     "data": {
      "application/vnd.jupyter.widget-view+json": {
       "model_id": "58b98652d17d42eca12b20dda1fb1ba1",
       "version_major": 2,
       "version_minor": 0
      },
      "text/plain": [
       "  0%|          | 0/1875 [00:00<?, ?it/s]"
      ]
     },
     "metadata": {},
     "output_type": "display_data"
    },
    {
     "data": {
      "application/vnd.jupyter.widget-view+json": {
       "model_id": "fc5bd13ed1e54ea3964b6bbb0bcf9482",
       "version_major": 2,
       "version_minor": 0
      },
      "text/plain": [
       "  0%|          | 0/313 [00:00<?, ?it/s]"
      ]
     },
     "metadata": {},
     "output_type": "display_data"
    },
    {
     "data": {
      "application/vnd.jupyter.widget-view+json": {
       "model_id": "6f59fe906cff4735be9cedc074abe1b4",
       "version_major": 2,
       "version_minor": 0
      },
      "text/plain": [
       "  0%|          | 0/1875 [00:00<?, ?it/s]"
      ]
     },
     "metadata": {},
     "output_type": "display_data"
    },
    {
     "data": {
      "application/vnd.jupyter.widget-view+json": {
       "model_id": "f3407029ca7c4633a4f438406b97dc87",
       "version_major": 2,
       "version_minor": 0
      },
      "text/plain": [
       "  0%|          | 0/313 [00:00<?, ?it/s]"
      ]
     },
     "metadata": {},
     "output_type": "display_data"
    },
    {
     "data": {
      "application/vnd.jupyter.widget-view+json": {
       "model_id": "d0b73d14ca2746ff846136dd9510a673",
       "version_major": 2,
       "version_minor": 0
      },
      "text/plain": [
       "  0%|          | 0/1875 [00:00<?, ?it/s]"
      ]
     },
     "metadata": {},
     "output_type": "display_data"
    },
    {
     "data": {
      "application/vnd.jupyter.widget-view+json": {
       "model_id": "45a2af4b29694fb0a765058d9d309c7d",
       "version_major": 2,
       "version_minor": 0
      },
      "text/plain": [
       "  0%|          | 0/313 [00:00<?, ?it/s]"
      ]
     },
     "metadata": {},
     "output_type": "display_data"
    },
    {
     "data": {
      "application/vnd.jupyter.widget-view+json": {
       "model_id": "93aee38cd1e64ebcbf1c696d10a5ff02",
       "version_major": 2,
       "version_minor": 0
      },
      "text/plain": [
       "  0%|          | 0/1875 [00:00<?, ?it/s]"
      ]
     },
     "metadata": {},
     "output_type": "display_data"
    },
    {
     "data": {
      "application/vnd.jupyter.widget-view+json": {
       "model_id": "0e4b721ce9e54299967e00aaebab9bb4",
       "version_major": 2,
       "version_minor": 0
      },
      "text/plain": [
       "  0%|          | 0/313 [00:00<?, ?it/s]"
      ]
     },
     "metadata": {},
     "output_type": "display_data"
    }
   ],
   "source": [
    "\n",
    "best_loss = np.inf\n",
    "\n",
    "train_losses = []\n",
    "tain_accs = []\n",
    "test_losses = []\n",
    "test_accs = []\n",
    "\n",
    "weights = []\n",
    "biases = []\n",
    "grads = []\n",
    "\n",
    "\n",
    "# train\n",
    "for epoch in tqdm(range(50)):\n",
    "    model.train()\n",
    "    total_loss = 0\n",
    "    total_acc = 0\n",
    "    with tqdm(total=len(train_loader), file=sys.stdout) as pbar:\n",
    "        for x, y in train_loader:\n",
    "            pbar.update(1)\n",
    "            x = x\n",
    "            y = y\n",
    "            optim.zero_grad(set_to_none = True)\n",
    "            y_ = model(x)\n",
    "            loss = critereon(y_, y)\n",
    "            total_acc += (y_.argmax(dim=1) == y).sum().item()\n",
    "            loss.backward()\n",
    "            optim.step()\n",
    "            total_loss += loss.item()\n",
    "        train_losses.append(total_loss / len(train_loader))\n",
    "        tain_accs.append(total_acc / len(train_data))\n",
    "        pbar.set_description(f\"epoch {epoch} train acc {total_acc / len(train_data):.3f}\")\n",
    "        pbar.refresh()\n",
    "    \n",
    "    # test\n",
    "    model.eval()\n",
    "    with torch.no_grad():\n",
    "        total_loss = 0\n",
    "        total_acc = 0\n",
    "        with tqdm(total=len(test_loader), file=sys.stdout) as pbar:\n",
    "            for x, y in test_loader:\n",
    "                pbar.update(1)\n",
    "                x = x\n",
    "                y = y\n",
    "                y_ = model(x)\n",
    "                loss = critereon(y_, y)\n",
    "                total_acc += (y_.argmax(dim=1) == y).sum().item()\n",
    "                total_loss += loss.item()\n",
    "            test_losses.append(total_loss / len(test_loader))\n",
    "            test_accs.append(total_acc / len(test_data))\n",
    "            pbar.set_description(f\"epoch {epoch} test acc {total_acc / len(test_data):.3f}\")\n",
    "            pbar.refresh()\n",
    "            if total_loss < best_loss:\n",
    "                best_loss = total_loss\n",
    "                torch.save(model.state_dict(), \"cnn.pt\")\n",
    "        scheduler.step(total_loss / len(test_loader))\n",
    "\n"
   ]
  },
  {
   "cell_type": "code",
   "execution_count": 5,
   "metadata": {},
   "outputs": [
    {
     "data": {
      "image/png": "[encoded data removed]",
      "text/plain": [
       "<Figure size 720x360 with 1 Axes>"
      ]
     },
     "metadata": {
      "needs_background": "light"
     },
     "output_type": "display_data"
    },
    {
     "data": {
      "image/png": "[encoded data removed]",
      "text/plain": [
       "<Figure size 720x360 with 1 Axes>"
      ]
     },
     "metadata": {
      "needs_background": "light"
     },
     "output_type": "display_data"
    }
   ],
   "source": [
    "# graph loss\n",
    "plt.figure(figsize = (10, 5))\n",
    "plt.plot(train_losses, label=\"train\")\n",
    "plt.plot(test_losses, label=\"test\")\n",
    "plt.legend()\n",
    "plt.show()\n",
    "\n",
    "# graph acc\n",
    "plt.figure(figsize = (10, 5))\n",
    "plt.plot(tain_accs, label=\"train\")\n",
    "plt.plot(test_accs, label=\"test\")\n",
    "plt.legend()\n",
    "plt.show()\n"
   ]
  },
  {
   "cell_type": "code",
   "execution_count": 6,
   "metadata": {},
   "outputs": [
    {
     "data": {
      "application/vnd.jupyter.widget-view+json": {
       "model_id": "c738f1d1e0a540168daa4b50e5c293b7",
       "version_major": 2,
       "version_minor": 0
      },
      "text/plain": [
       "  0%|          | 0/313 [00:00<?, ?it/s]"
      ]
     },
     "metadata": {},
     "output_type": "display_data"
    },
    {
     "name": "stdout",
     "output_type": "stream",
     "text": [
      "test acc 0.903\n",
      "test loss 0.323918668356852\n",
      "class 0 acc 0.967\n",
      "class 1 acc 0.977\n",
      "class 2 acc 0.906\n",
      "class 3 acc 0.865\n",
      "class 4 acc 0.903\n",
      "class 5 acc 0.852\n",
      "class 6 acc 0.918\n",
      "class 7 acc 0.883\n",
      "class 8 acc 0.874\n",
      "class 9 acc 0.871\n"
     ]
    },
    {
     "data": {
      "image/png": "[encoded data removed]",
      "text/plain": [
       "<Figure size 720x360 with 1 Axes>"
      ]
     },
     "metadata": {
      "needs_background": "light"
     },
     "output_type": "display_data"
    }
   ],
   "source": [
    "#  loda the best model\n",
    "model.load_state_dict(torch.load(\"cnn.pt\"))\n",
    "\n",
    "#  evaluate\n",
    "model.eval()\n",
    "with torch.no_grad():\n",
    "    total_loss = 0\n",
    "    total_acc = 0\n",
    "    class_acc = np.zeros(10)\n",
    "    class_num = np.zeros(10)\n",
    "    with tqdm(total=len(test_loader), file=sys.stdout) as pbar:\n",
    "        for x, y in test_loader:\n",
    "            pbar.update(1)\n",
    "            x = x\n",
    "            y = y\n",
    "            y_ = model(x)\n",
    "            loss = critereon(y_, y)\n",
    "            total_acc += (y_.argmax(dim=1) == y).sum().item()\n",
    "            total_loss += loss.item()\n",
    "            for i in range(len(y)):\n",
    "                class_acc[y[i]] += (y_.argmax(dim=1)[i] == y[i]).item()\n",
    "                class_num[y[i]] += 1\n",
    "        print(f\"test acc {total_acc / len(test_data):.3f}\")\n",
    "        print(f\"test loss {total_loss / len(test_loader)}\")\n",
    "        for i in range(10):\n",
    "            print(f\"class {i} acc {class_acc[i] / class_num[i]:.3f}\")\n",
    "#  graph the acc\n",
    "plt.figure(figsize = (10, 5))\n",
    "plt.bar(range(10), class_acc / class_num)\n",
    "plt.show()\n"
   ]
  },
  {
   "cell_type": "code",
   "execution_count": 7,
   "metadata": {},
   "outputs": [
    {
     "data": {
      "image/png": "[encoded data removed]",
      "text/plain": [
       "<Figure size 720x720 with 1 Axes>"
      ]
     },
     "metadata": {
      "needs_background": "light"
     },
     "output_type": "display_data"
    }
   ],
   "source": [
    "#  compute confusion matrix\n",
    "confusion_matrix = np.zeros((10, 10))\n",
    "with torch.no_grad():\n",
    "    for x, y in test_loader:\n",
    "        x = x\n",
    "        y = y\n",
    "        y_ = model(x)\n",
    "        for i in range(len(y)):\n",
    "            confusion_matrix[y[i]][y_.argmax(dim=1)[i]] += 1\n",
    "#  graph the confusion matrix\n",
    "plt.figure(figsize = (10, 10))\n",
    "plt.imshow(confusion_matrix)\n",
    "plt.show()\n"
   ]
  },
  {
   "cell_type": "code",
   "execution_count": 8,
   "metadata": {},
   "outputs": [
    {
     "name": "stdout",
     "output_type": "stream",
     "text": [
      "Exported graph: graph(%input : Float(1, 1, 28, 28, strides=[784, 784, 28, 1], requires_grad=0, device=cpu),\n",
      "      %conv0.weight : Float(1, 1, 7, 7, strides=[49, 49, 7, 1], requires_grad=1, device=cpu),\n",
      "      %conv0.bias : Float(1, strides=[1], requires_grad=1, device=cpu),\n",
      "      %conv1.weight : Float(1, 1, 7, 7, strides=[49, 49, 7, 1], requires_grad=1, device=cpu),\n",
      "      %conv1.bias : Float(1, strides=[1], requires_grad=1, device=cpu),\n",
      "      %conv2.weight : Float(1, 1, 5, 5, strides=[25, 25, 5, 1], requires_grad=1, device=cpu),\n",
      "      %conv2.bias : Float(1, strides=[1], requires_grad=1, device=cpu),\n",
      "      %conv12.weight : Float(1, 1, 3, 3, strides=[9, 9, 3, 1], requires_grad=1, device=cpu),\n",
      "      %conv12.bias : Float(1, strides=[1], requires_grad=1, device=cpu),\n",
      "      %fc1.weight : Float(10, 100, strides=[100, 1], requires_grad=1, device=cpu),\n",
      "      %fc1.bias : Float(10, strides=[1], requires_grad=1, device=cpu)):\n",
      "  %/conv0/Conv_output_0 : Float(1, 1, 22, 22, strides=[484, 484, 22, 1], requires_grad=0, device=cpu) = onnx::Conv[dilations=[1, 1], group=1, kernel_shape=[7, 7], pads=[0, 0, 0, 0], strides=[1, 1], onnx_name=\"/conv0/Conv\"](%input, %conv0.weight, %conv0.bias), scope: __main__.cnn::/torch.nn.modules.conv.Conv2d::conv0 # /home/nicolas/.local/lib/python3.10/site-packages/torch/nn/modules/conv.py:458:0\n",
      "  %/rel/Relu_output_0 : Float(1, 1, 22, 22, strides=[484, 484, 22, 1], requires_grad=1, device=cpu) = onnx::Relu[onnx_name=\"/rel/Relu\"](%/conv0/Conv_output_0), scope: __main__.cnn::/torch.nn.modules.activation.ReLU::rel # /home/nicolas/.local/lib/python3.10/site-packages/torch/nn/functional.py:1453:0\n",
      "  %/conv1/Conv_output_0 : Float(1, 1, 16, 16, strides=[256, 256, 16, 1], requires_grad=0, device=cpu) = onnx::Conv[dilations=[1, 1], group=1, kernel_shape=[7, 7], pads=[0, 0, 0, 0], strides=[1, 1], onnx_name=\"/conv1/Conv\"](%/rel/Relu_output_0, %conv1.weight, %conv1.bias), scope: __main__.cnn::/torch.nn.modules.conv.Conv2d::conv1 # /home/nicolas/.local/lib/python3.10/site-packages/torch/nn/modules/conv.py:458:0\n",
      "  %/rel_1/Relu_output_0 : Float(1, 1, 16, 16, strides=[256, 256, 16, 1], requires_grad=1, device=cpu) = onnx::Relu[onnx_name=\"/rel_1/Relu\"](%/conv1/Conv_output_0), scope: __main__.cnn::/torch.nn.modules.activation.ReLU::rel # /home/nicolas/.local/lib/python3.10/site-packages/torch/nn/functional.py:1453:0\n",
      "  %/conv2/Conv_output_0 : Float(1, 1, 12, 12, strides=[144, 144, 12, 1], requires_grad=0, device=cpu) = onnx::Conv[dilations=[1, 1], group=1, kernel_shape=[5, 5], pads=[0, 0, 0, 0], strides=[1, 1], onnx_name=\"/conv2/Conv\"](%/rel_1/Relu_output_0, %conv2.weight, %conv2.bias), scope: __main__.cnn::/torch.nn.modules.conv.Conv2d::conv2 # /home/nicolas/.local/lib/python3.10/site-packages/torch/nn/modules/conv.py:458:0\n",
      "  %/rel_2/Relu_output_0 : Float(1, 1, 12, 12, strides=[144, 144, 12, 1], requires_grad=1, device=cpu) = onnx::Relu[onnx_name=\"/rel_2/Relu\"](%/conv2/Conv_output_0), scope: __main__.cnn::/torch.nn.modules.activation.ReLU::rel # /home/nicolas/.local/lib/python3.10/site-packages/torch/nn/functional.py:1453:0\n",
      "  %/conv12/Conv_output_0 : Float(1, 1, 10, 10, strides=[100, 100, 10, 1], requires_grad=0, device=cpu) = onnx::Conv[dilations=[1, 1], group=1, kernel_shape=[3, 3], pads=[0, 0, 0, 0], strides=[1, 1], onnx_name=\"/conv12/Conv\"](%/rel_2/Relu_output_0, %conv12.weight, %conv12.bias), scope: __main__.cnn::/torch.nn.modules.conv.Conv2d::conv12 # /home/nicolas/.local/lib/python3.10/site-packages/torch/nn/modules/conv.py:458:0\n",
      "  %/rel_3/Relu_output_0 : Float(1, 1, 10, 10, strides=[100, 100, 10, 1], requires_grad=1, device=cpu) = onnx::Relu[onnx_name=\"/rel_3/Relu\"](%/conv12/Conv_output_0), scope: __main__.cnn::/torch.nn.modules.activation.ReLU::rel # /home/nicolas/.local/lib/python3.10/site-packages/torch/nn/functional.py:1453:0\n",
      "  %/flat/Flatten_output_0 : Float(1, 100, strides=[100, 1], requires_grad=1, device=cpu) = onnx::Flatten[axis=1, onnx_name=\"/flat/Flatten\"](%/rel_3/Relu_output_0), scope: __main__.cnn::/torch.nn.modules.flatten.Flatten::flat # /home/nicolas/.local/lib/python3.10/site-packages/torch/nn/modules/flatten.py:46:0\n",
      "  %output : Float(1, 10, strides=[10, 1], requires_grad=1, device=cpu) = onnx::Gemm[alpha=1., beta=1., transB=1, onnx_name=\"/fc1/Gemm\"](%/flat/Flatten_output_0, %fc1.weight, %fc1.bias), scope: __main__.cnn::/torch.nn.modules.linear.Linear::fc1 # /home/nicolas/.local/lib/python3.10/site-packages/torch/nn/modules/linear.py:114:0\n",
      "  return (%output)\n",
      "\n",
      "None\n",
      "\n",
      "graph torch_jit (\n",
      "  %input[FLOAT, 1x1x28x28]\n",
      ") initializers (\n",
      "  %conv0.weight[FLOAT, 1x1x7x7]\n",
      "  %conv0.bias[FLOAT, 1]\n",
      "  %conv1.weight[FLOAT, 1x1x7x7]\n",
      "  %conv1.bias[FLOAT, 1]\n",
      "  %conv2.weight[FLOAT, 1x1x5x5]\n",
      "  %conv2.bias[FLOAT, 1]\n",
      "  %conv12.weight[FLOAT, 1x1x3x3]\n",
      "  %conv12.bias[FLOAT, 1]\n",
      "  %fc1.weight[FLOAT, 10x100]\n",
      "  %fc1.bias[FLOAT, 10]\n",
      ") {\n",
      "  %/conv0/Conv_output_0 = Conv[dilations = [1, 1], group = 1, kernel_shape = [7, 7], pads = [0, 0, 0, 0], strides = [1, 1]](%input, %conv0.weight, %conv0.bias)\n",
      "  %/rel/Relu_output_0 = Relu(%/conv0/Conv_output_0)\n",
      "  %/conv1/Conv_output_0 = Conv[dilations = [1, 1], group = 1, kernel_shape = [7, 7], pads = [0, 0, 0, 0], strides = [1, 1]](%/rel/Relu_output_0, %conv1.weight, %conv1.bias)\n",
      "  %/rel_1/Relu_output_0 = Relu(%/conv1/Conv_output_0)\n",
      "  %/conv2/Conv_output_0 = Conv[dilations = [1, 1], group = 1, kernel_shape = [5, 5], pads = [0, 0, 0, 0], strides = [1, 1]](%/rel_1/Relu_output_0, %conv2.weight, %conv2.bias)\n",
      "  %/rel_2/Relu_output_0 = Relu(%/conv2/Conv_output_0)\n",
      "  %/conv12/Conv_output_0 = Conv[dilations = [1, 1], group = 1, kernel_shape = [3, 3], pads = [0, 0, 0, 0], strides = [1, 1]](%/rel_2/Relu_output_0, %conv12.weight, %conv12.bias)\n",
      "  %/rel_3/Relu_output_0 = Relu(%/conv12/Conv_output_0)\n",
      "  %/flat/Flatten_output_0 = Flatten[axis = 1](%/rel_3/Relu_output_0)\n",
      "  %output = Gemm[alpha = 1, beta = 1, transB = 1](%/flat/Flatten_output_0, %fc1.weight, %fc1.bias)\n",
      "  return %output\n",
      "}\n"
     ]
    }
   ],
   "source": [
    "#  export to onnx\n",
    "dummy_input = torch.randn(1, 1, 28, 28, device='cpu')\n",
    "torch.onnx.export(model, dummy_input, \"cnn.onnx\", verbose=True, input_names = ['input'], output_names = ['output'], opset_version=11)\n",
    "\n",
    "#  check the onnx model\n",
    "onnx_model = onnx.load(\"cnn.onnx\")\n",
    "print(onnx.checker.check_model(onnx_model))\n",
    "print()\n",
    "print(onnx.helper.printable_graph(onnx_model.graph))\n"
   ]
  },
  {
   "cell_type": "code",
   "execution_count": 9,
   "metadata": {},
   "outputs": [
    {
     "name": "stderr",
     "output_type": "stream",
     "text": [
      "2022-12-05 19:05:29.901167: W tensorflow/compiler/xla/stream_executor/platform/default/dso_loader.cc:64] Could not load dynamic library 'libcuda.so.1'; dlerror: libcuda.so.1: cannot open shared object file: No such file or directory; LD_LIBRARY_PATH: /opt/ros/humble/opt/rviz_ogre_vendor/lib:/opt/ros/humble/lib/x86_64-linux-gnu:/opt/ros/humble/lib\n",
      "2022-12-05 19:05:29.901433: W tensorflow/compiler/xla/stream_executor/cuda/cuda_driver.cc:265] failed call to cuInit: UNKNOWN ERROR (303)\n"
     ]
    },
    {
     "name": "stdout",
     "output_type": "stream",
     "text": [
      "WARNING:tensorflow:From /home/nicolas/.local/lib/python3.10/site-packages/tensorflow/python/autograph/pyct/static_analysis/liveness.py:83: Analyzer.lamba_check (from tensorflow.python.autograph.pyct.static_analysis.liveness) is deprecated and will be removed after 2023-09-23.\n",
      "Instructions for updating:\n",
      "Lambda fuctions will be no more assumed to be used in the statement where they are used, or at least in the same block. https://github.com/tensorflow/tensorflow/issues/56089\n"
     ]
    },
    {
     "name": "stderr",
     "output_type": "stream",
     "text": [
      "WARNING:tensorflow:From /home/nicolas/.local/lib/python3.10/site-packages/tensorflow/python/autograph/pyct/static_analysis/liveness.py:83: Analyzer.lamba_check (from tensorflow.python.autograph.pyct.static_analysis.liveness) is deprecated and will be removed after 2023-09-23.\n",
      "Instructions for updating:\n",
      "Lambda fuctions will be no more assumed to be used in the statement where they are used, or at least in the same block. https://github.com/tensorflow/tensorflow/issues/56089\n",
      "WARNING:absl:Found untraced functions such as gen_tensor_dict while saving (showing 1 of 1). These functions will not be directly callable after loading.\n"
     ]
    },
    {
     "name": "stdout",
     "output_type": "stream",
     "text": [
      "INFO:tensorflow:Assets written to: cnn.pb/assets\n"
     ]
    },
    {
     "name": "stderr",
     "output_type": "stream",
     "text": [
      "INFO:tensorflow:Assets written to: cnn.pb/assets\n",
      "2022-12-05 19:05:33.637616: W tensorflow/compiler/mlir/lite/python/tf_tfl_flatbuffer_helpers.cc:362] Ignored output_format.\n",
      "2022-12-05 19:05:33.637652: W tensorflow/compiler/mlir/lite/python/tf_tfl_flatbuffer_helpers.cc:365] Ignored drop_control_dependency.\n",
      "2022-12-05 19:05:33.641789: I tensorflow/cc/saved_model/loader.cc:229] Restoring SavedModel bundle.\n",
      "2022-12-05 19:05:33.702177: I tensorflow/cc/saved_model/loader.cc:213] Running initialization op on SavedModel bundle at path: cnn.pb\n",
      "2022-12-05 19:05:33.709797: I tensorflow/cc/saved_model/loader.cc:305] SavedModel load for tags { serve }; Status: success: OK. Took 71324 microseconds.\n",
      "fully_quantize: 0, inference_type: 6, input_inference_type: FLOAT32, output_inference_type: FLOAT32\n"
     ]
    },
    {
     "data": {
      "text/plain": [
       "5000"
      ]
     },
     "execution_count": 9,
     "metadata": {},
     "output_type": "execute_result"
    }
   ],
   "source": [
    "#  from onnx to tf\n",
    "tf_rep = prepare(onnx.load(\"cnn.onnx\"))\n",
    "tf_rep.export_graph('cnn.pb')\n",
    "\n",
    "x = torch.randn(1, 1, 28, 28, requires_grad = False)\n",
    "\n",
    "def representative_dataset_gen():\n",
    "    for _ in range(100):\n",
    "        yield [x]\n",
    "\n",
    "converter = tf.lite.TFLiteConverter.from_saved_model(\"cnn.pb\")\n",
    "converter.target_spec.supported_ops = [\n",
    "  tf.lite.OpsSet.TFLITE_BUILTINS_INT8, # enable TensorFlow Lite ops.\n",
    "]\n",
    "converter.optimizations = [tf.lite.Optimize.DEFAULT]\n",
    "converter.representative_dataset = representative_dataset_gen\n",
    "tflite_model = converter.convert()\n",
    "\n",
    "#  save the model\n",
    "open(\"cnn.tflite\", \"wb\").write(tflite_model)\n"
   ]
  },
  {
   "cell_type": "code",
   "execution_count": 10,
   "metadata": {},
   "outputs": [
    {
     "name": "stdout",
     "output_type": "stream",
     "text": [
      "pytorch model weights with magnitude less than 0.001 : 9\n",
      "total weights: 1146\n",
      "sparsity: 0.007853403141361256\n"
     ]
    }
   ],
   "source": [
    "# load pytorch model\n",
    "model.load_state_dict(torch.load(\"cnn.pt\"))\n",
    "model.eval()\n",
    "#  count wieights with magnitude less than 0.1\n",
    "count = 0\n",
    "magnitude = 0.001\n",
    "for name, param in model.named_parameters():\n",
    "    if \"weight\" in name:\n",
    "        count += (param.abs() < magnitude).sum().item()\n",
    "print(\"pytorch model weights with magnitude less than\", magnitude,\":\",count)\n",
    "total = sum(p.numel() for p in model.parameters())\n",
    "print(\"total weights:\", total)\n",
    "print(\"sparsity:\", count / total)\n",
    "\n"
   ]
  },
  {
   "cell_type": "code",
   "execution_count": 11,
   "metadata": {},
   "outputs": [
    {
     "name": "stdout",
     "output_type": "stream",
     "text": [
      "pruned model weights with magnitude less than 0.001 : 9\n",
      "total weights: 1146\n",
      "sparsity: 0.007853403141361256\n"
     ]
    },
    {
     "data": {
      "application/vnd.jupyter.widget-view+json": {
       "model_id": "bae9265f610541618390cd4e97fb35ca",
       "version_major": 2,
       "version_minor": 0
      },
      "text/plain": [
       "  0%|          | 0/313 [00:00<?, ?it/s]"
      ]
     },
     "metadata": {},
     "output_type": "display_data"
    },
    {
     "name": "stdout",
     "output_type": "stream",
     "text": [
      "test acc 0.874\n",
      "test loss 0.3987986080515118\n",
      "class 0 acc 0.964\n",
      "class 1 acc 0.980\n",
      "class 2 acc 0.949\n",
      "class 3 acc 0.762\n",
      "class 4 acc 0.874\n",
      "class 5 acc 0.714\n",
      "class 6 acc 0.875\n",
      "class 7 acc 0.817\n",
      "class 8 acc 0.916\n",
      "class 9 acc 0.865\n"
     ]
    },
    {
     "data": {
      "image/png": "[encoded data removed]",
      "text/plain": [
       "<Figure size 720x360 with 1 Axes>"
      ]
     },
     "metadata": {
      "needs_background": "light"
     },
     "output_type": "display_data"
    },
    {
     "data": {
      "image/png": "[encoded data removed]",
      "text/plain": [
       "<Figure size 720x720 with 1 Axes>"
      ]
     },
     "metadata": {
      "needs_background": "light"
     },
     "output_type": "display_data"
    },
    {
     "data": {
      "image/png": "[encoded data removed]",
      "text/plain": [
       "<Figure size 720x360 with 1 Axes>"
      ]
     },
     "metadata": {
      "needs_background": "light"
     },
     "output_type": "display_data"
    }
   ],
   "source": [
    "# prun the model\n",
    "\n",
    "from torch.nn.utils import prune\n",
    "model = cnn()\n",
    "model.load_state_dict(torch.load(\"cnn.pt\"))\n",
    "\n",
    "params_to_prune = (\n",
    "    (model.conv0, 'weight'),\n",
    "    (model.conv1, 'weight'),\n",
    "    (model.conv2, 'weight'),\n",
    "    (model.conv12, 'weight'),\n",
    "    (model.fc1, 'weight'),\n",
    ")\n",
    "\n",
    "prune.global_unstructured(\n",
    "    parameters=params_to_prune,\n",
    "    pruning_method=prune.L1Unstructured,\n",
    "    amount=0.2,\n",
    ")\n",
    "#  count wieights with magnitude less than 0.1\n",
    "count = 0\n",
    "magnitude = 0.001\n",
    "for name, param in model.named_parameters():\n",
    "    if \"weight\" in name:\n",
    "        count += (param.abs() < magnitude).sum().item()\n",
    "print(\"pruned model weights with magnitude less than\", magnitude,\":\",count)\n",
    "total = sum(p.numel() for p in model.parameters())\n",
    "print(\"total weights:\", total)\n",
    "print(\"sparsity:\", count / total)\n",
    "\n",
    "#  save sparse model\n",
    "torch.save(model.state_dict(), \"cnn_sparse.pt\")\n",
    "\n",
    "#  test the pruned model\n",
    "model.eval()\n",
    "with torch.no_grad():\n",
    "    sparse_confusion_matrix = np.zeros((10, 10))\n",
    "    total_loss = 0\n",
    "    total_acc = 0\n",
    "    sparse_class_acc = np.zeros(10)\n",
    "    sparse_class_num = np.zeros(10)\n",
    "    with tqdm(total=len(test_loader), file=sys.stdout) as pbar:\n",
    "        for x, y in test_loader:\n",
    "            pbar.update(1)\n",
    "            x = x\n",
    "            y = y\n",
    "            y_ = model(x)\n",
    "            loss = critereon(y_, y)\n",
    "            total_acc += (y_.argmax(dim=1) == y).sum().item()\n",
    "            total_loss += loss.item()\n",
    "            for i in range(len(y)):\n",
    "                sparse_class_acc[y[i]] += (y_.argmax(dim=1)[i] == y[i]).item()\n",
    "                sparse_class_num[y[i]] += 1\n",
    "                sparse_confusion_matrix[y[i]][y_.argmax(dim=1)[i]] += 1\n",
    "        print(f\"test acc {total_acc / len(test_data):.3f}\")\n",
    "        print(f\"test loss {total_loss / len(test_loader)}\")\n",
    "        for i in range(10):\n",
    "            print(f\"class {i} acc {sparse_class_acc[i] / sparse_class_num[i]:.3f}\")\n",
    "#  graph the acc\n",
    "plt.figure(figsize = (10, 5))\n",
    "plt.bar(range(10), sparse_class_acc / sparse_class_num)\n",
    "plt.show()\n",
    "#  graph the confusion matrix\n",
    "plt.figure(figsize = (10, 10))\n",
    "plt.imshow(sparse_confusion_matrix)\n",
    "plt.show()\n",
    "\n",
    "# lets take a look at the difference between the two models\n",
    "# difference between sparse_class_acc and class_acc\n",
    "plt.figure(figsize = (10, 5))\n",
    "plt.bar(range(10), (sparse_class_acc / sparse_class_num) - (class_acc / class_num))\n",
    "plt.title(\"difference between sparse_class_acc and class_acc\")\n",
    "plt.ylabel(\"difference\")\n",
    "plt.xlabel(\"class\")\n",
    "plt.show()\n",
    "\n"
   ]
  },
  {
   "cell_type": "code",
   "execution_count": 12,
   "metadata": {},
   "outputs": [
    {
     "name": "stderr",
     "output_type": "stream",
     "text": [
      "WARNING:absl:Found untraced functions such as gen_tensor_dict while saving (showing 1 of 1). These functions will not be directly callable after loading.\n"
     ]
    },
    {
     "name": "stdout",
     "output_type": "stream",
     "text": [
      "INFO:tensorflow:Assets written to: cnn.pb/assets\n"
     ]
    },
    {
     "name": "stderr",
     "output_type": "stream",
     "text": [
      "INFO:tensorflow:Assets written to: cnn.pb/assets\n",
      "2022-12-05 19:05:36.854201: I tensorflow/core/grappler/devices.cc:66] Number of eligible GPUs (core count >= 8, compute capability >= 0.0): 0\n"
     ]
    },
    {
     "name": "stdout",
     "output_type": "stream",
     "text": [
      "Writing weight file cnn.js/model.json...\n"
     ]
    }
   ],
   "source": [
    "from tensorflowjs.converters.tf_saved_model_conversion_v2 import convert_tf_saved_model\n",
    "from onnx_tf.backend import prepare as tf_prepare\n",
    "from onnxsim import simplify\n",
    "# ==== ONNX SANITY CHECK\n",
    "o_model = onnx.load(\"cnn.onnx\")\n",
    "onnx.checker.check_model(o_model)\n",
    "\n",
    "# ==== MODEL ONNX GRAPH SIMPLIFICATION\n",
    "o_model, check = simplify(o_model)\n",
    "\n",
    "# ==== TENSORFLOW JS EXPORT\n",
    "# ==== TENSORFLOW JS EXPORT\n",
    "tf_prepare(o_model).export_graph(\"cnn.pb\")\n",
    "convert_tf_saved_model(\"cnn.pb\", \"cnn.js\")"
   ]
  }
 ],
 "metadata": {
  "kernelspec": {
   "display_name": "Python 3.10.6 64-bit",
   "language": "python",
   "name": "python3"
  },
  "language_info": {
   "codemirror_mode": {
    "name": "ipython",
    "version": 3
   },
   "file_extension": ".py",
   "mimetype": "text/x-python",
   "name": "python",
   "nbconvert_exporter": "python",
   "pygments_lexer": "ipython3",
   "version": "3.10.6"
  },
  "orig_nbformat": 4,
  "vscode": {
   "interpreter": {
    "hash": "916dbcbb3f70747c44a77c7bcd40155683ae19c65e1c03b4aa3499c5328201f1"
   }
  }
 },
 "nbformat": 4,
 "nbformat_minor": 2
}
